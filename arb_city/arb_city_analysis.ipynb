{
 "cells": [
  {
   "cell_type": "code",
   "execution_count": 129,
   "metadata": {
    "collapsed": true
   },
   "outputs": [],
   "source": [
    "import pandas\n",
    "import time\n",
    "from datetime import datetime, timezone\n",
    "\n",
    "fees = {\n",
    "\t'bitmex': {\n",
    "\t\t'maker': -0.00025,\n",
    "\t\t'taker': 0.00075\n",
    "\t},\n",
    "\t'bitmex_swaps': {\n",
    "\t\t'maker': -0.00025,\n",
    "\t\t'taker': 0.00075\n",
    "\t},\n",
    "\t'bitmex_futures': {\n",
    "\t\t'maker': -0.00025,\n",
    "\t\t'taker': 0.00075\n",
    "\t},\n",
    "\t'deribit_swaps': {\n",
    "\t\t'maker': -0.00025,\n",
    "\t\t'taker': 0.00075\n",
    "\t},\n",
    "\t'deribit_futures': {\n",
    "\t\t'maker': -0.0002,\n",
    "\t\t'taker': 0.0005\n",
    "\t},\n",
    "\t'okex_swaps': {\n",
    "\t\t'maker': 0.0002,\n",
    "\t\t'taker': 0.00075\n",
    "\t},\n",
    "\t'okex_futures': {\n",
    "\t\t'maker': 0.0002,\n",
    "\t\t'taker': 0.0005\n",
    "\t}\n",
    "}"
   ]
  },
  {
   "cell_type": "code",
   "execution_count": null,
   "metadata": {
    "collapsed": true
   },
   "outputs": [],
   "source": [
    "#TODO: pull rows with 99th-1st spread\n",
    "### simulate trades accounting for fees\n",
    "### should give max profit without slippage"
   ]
  },
  {
   "cell_type": "code",
   "execution_count": 125,
   "metadata": {},
   "outputs": [],
   "source": [
    "dec27_tradeable = csv_.loc[(csv_['SpreadPercent'] <= first_percentile_percentage) | (csv_['SpreadPercent'] >= _99th_percentile_percentage)]"
   ]
  },
  {
   "cell_type": "code",
   "execution_count": 134,
   "metadata": {},
   "outputs": [],
   "source": [
    "dec27_tradeable.to_csv(\"dec27_tradable.csv\")"
   ]
  },
  {
   "cell_type": "code",
   "execution_count": 113,
   "metadata": {},
   "outputs": [
    {
     "name": "stdout",
     "output_type": "stream",
     "text": [
      "\n",
      "***** swaps spread summary *****\n",
      "         DeribitAsk    DeribitBid     BitmexAsk     BitmexBid       Spread  \\\n",
      "count   2011.000000   2011.000000   2011.000000   2011.000000  2011.000000   \n",
      "mean   10775.013426  10774.475137  10775.185977  10774.662606     3.062158   \n",
      "std      465.576932    465.597873    465.460712    465.491338     2.886642   \n",
      "min     9942.000000   9940.500000   9946.000000   9945.500000     0.000000   \n",
      "1%     10017.550000  10016.550000  10022.000000  10020.600000     0.000000   \n",
      "50%    10609.000000  10608.500000  10609.000000  10608.500000     2.500000   \n",
      "99%    11480.450000  11479.950000  11480.400000  11479.900000    11.500000   \n",
      "max    11492.000000  11491.500000  11488.500000  11488.000000    37.000000   \n",
      "\n",
      "       SpreadPercent  \n",
      "count    2011.000000  \n",
      "mean        0.028501  \n",
      "std         0.027131  \n",
      "min         0.000000  \n",
      "1%          0.000000  \n",
      "50%         0.022000  \n",
      "99%         0.105180  \n",
      "max         0.359500  \n",
      "1st Percentile: 0.0, 0.0%\n",
      "99th Percentile: 11.5, 0.10518%\n",
      "99th-to-1st Spread Percentage: 0.1052%\n",
      "99th-to-1st Spread: 11.5\n",
      "Runtime: 0.2453 seconds\n",
      "\n",
      "***** sep27 spread summary *****\n",
      "         DeribitAsk    DeribitBid     BitmexAsk     BitmexBid       Spread  \\\n",
      "count   2008.000000   2008.000000   2008.000000   2008.000000  2008.000000   \n",
      "mean   10944.766434  10943.808516  10918.523406  10917.909612    25.340886   \n",
      "std      498.134583    498.192876    498.986460    499.063517     8.571177   \n",
      "min    10053.500000  10052.000000  10030.000000  10027.000000     1.000000   \n",
      "1%     10129.070000  10128.105000  10111.000000  10110.500000     6.500000   \n",
      "50%    10782.250000  10781.250000  10754.000000  10753.000000    25.500000   \n",
      "99%    11684.500000  11683.000000  11662.000000  11661.500000    49.500000   \n",
      "max    11693.000000  11692.500000  11675.000000  11674.500000    66.500000   \n",
      "\n",
      "       SpreadPercent  \n",
      "count    2008.000000  \n",
      "mean        0.232936  \n",
      "std         0.081171  \n",
      "min         0.008800  \n",
      "1%          0.055991  \n",
      "50%         0.232250  \n",
      "99%         0.473551  \n",
      "max         0.635100  \n",
      "1st Percentile: 6.5, 0.055991%\n",
      "99th Percentile: 49.5, 0.473551%\n",
      "99th-to-1st Spread Percentage: 0.4176%\n",
      "99th-to-1st Spread: 43.0\n",
      "Runtime: 0.2186 seconds\n",
      "\n",
      "***** dec27 spread summary *****\n",
      "         DeribitAsk    DeribitBid     BitmexAsk     BitmexBid       Spread  \\\n",
      "count   1997.000000   1997.000000   1997.000000   1997.000000  1997.000000   \n",
      "mean   11179.412619  11176.944166  11140.092639  11139.448673    36.879319   \n",
      "std      509.242562    508.456467    494.580360    494.651929    17.829069   \n",
      "min    10267.000000  10264.500000  10247.000000  10246.500000     1.000000   \n",
      "1%     10344.420000  10339.440000  10327.960000  10326.480000     6.000000   \n",
      "50%    10998.500000  10998.000000  10960.500000  10960.000000    36.000000   \n",
      "99%    11937.500000  11932.500000  11874.000000  11873.500000    67.500000   \n",
      "max    11943.500000  11943.000000  11890.000000  11889.500000    77.000000   \n",
      "\n",
      "       SpreadPercent  \n",
      "count    1997.000000  \n",
      "mean        0.326234  \n",
      "std         0.150006  \n",
      "min         0.009600  \n",
      "1%          0.057296  \n",
      "50%         0.327600  \n",
      "99%         0.599416  \n",
      "max         0.688500  \n",
      "1st Percentile: 6.0, 0.057296%\n",
      "99th Percentile: 67.5, 0.599416%\n",
      "99th-to-1st Spread Percentage: 0.5421%\n",
      "99th-to-1st Spread: 61.5\n",
      "Runtime: 0.1778 seconds\n"
     ]
    },
    {
     "name": "stderr",
     "output_type": "stream",
     "text": [
      "Skipping line 1600: Expected 9 fields in line 1600, saw 14\n",
      "Skipping line 1781: Expected 9 fields in line 1781, saw 14\n",
      "Skipping line 1794: Expected 9 fields in line 1794, saw 14\n",
      "Skipping line 1807: Expected 9 fields in line 1807, saw 14\n",
      "Skipping line 2003: Expected 9 fields in line 2003, saw 14\n",
      "Skipping line 2004: Expected 9 fields in line 2004, saw 21\n"
     ]
    }
   ],
   "source": [
    "#livenet\n",
    "for contract_date in ['swaps','sep27','dec27']:\n",
    "    start = time.time()\n",
    "    path = f'/home/ngancitano/bitgain/livenet_data/arb_city_{contract_date}.csv'\n",
    "    print(\"\\n*****\", contract_date, \"spread summary *****\")\n",
    "    \n",
    "    csv_ = pandas.read_csv(path, index_col='Epoch', engine='python', skipinitialspace=True, error_bad_lines=False)\n",
    "    \n",
    "    spread_describe = csv_[['Spread','SpreadPercent']].describe(percentiles=[.0001,.001,.005,.01,.1,.25,.5,.75,.9,.99,.995,.999,.9999])\n",
    "    print(csv_.describe(percentiles=[.01,.99]))\n",
    "\n",
    "    first_percentile = spread_describe.loc[['1%'],['Spread','SpreadPercent']].values\n",
    "    _99th_percentile = spread_describe.loc[['99%'],['Spread','SpreadPercent']].values\n",
    "    first_percentile_percentage = round(first_percentile[0][1],6)\n",
    "    first_percentile = round(first_percentile[0][0], 4)\n",
    "    _99th_percentile_percentage = round(_99th_percentile[0][1],6)\n",
    "    _99th_percentile = round(_99th_percentile[0][0], 4)\n",
    "\n",
    "    print(f\"1st Percentile: {first_percentile}, {first_percentile_percentage}%\")\n",
    "    print(f\"99th Percentile: {_99th_percentile}, {_99th_percentile_percentage}%\")\n",
    "    print(f\"99th-to-1st Spread Percentage: {round(_99th_percentile_percentage-first_percentile_percentage, 4)}%\")\n",
    "    print(f\"99th-to-1st Spread: {round(_99th_percentile-first_percentile, 4)}\")\n",
    "    print(f\"Runtime: {round((time.time()-start),4)} seconds\")"
   ]
  },
  {
   "cell_type": "code",
   "execution_count": 105,
   "metadata": {},
   "outputs": [
    {
     "name": "stdout",
     "output_type": "stream",
     "text": [
      "\n",
      "***** swaps spread summary *****\n",
      "1st Percentile: 0.0, 0.0%\n",
      "99th Percentile: 30.715, 0.271977%\n",
      "99th-to-1st Spread Percentage: 0.272%\n",
      "99th-to-1st Spread: 30.715\n",
      "Runtime: 0.0866 seconds\n",
      "\n",
      "***** sep27 spread summary *****\n",
      "1st Percentile: 34.0, 0.303324%\n",
      "99th Percentile: 98.0, 0.854235%\n",
      "99th-to-1st Spread Percentage: 0.5509%\n",
      "99th-to-1st Spread: 64.0\n",
      "Runtime: 0.1081 seconds\n",
      "\n",
      "***** dec27 spread summary *****\n",
      "1st Percentile: 20.285, 0.166337%\n",
      "99th Percentile: 413.5, 3.538472%\n",
      "99th-to-1st Spread Percentage: 3.3721%\n",
      "99th-to-1st Spread: 393.215\n",
      "Runtime: 0.1582 seconds\n"
     ]
    }
   ],
   "source": [
    "#testnet\n",
    "for contract_date in ['swaps','sep27','dec27']:\n",
    "    start = time.time()\n",
    "    path = f'/home/ngancitano/bitgain/testnet_data/arb_city_{contract_date}.csv'\n",
    "    print(\"\\n*****\", contract_date, \"spread summary *****\")\n",
    "    \n",
    "    csv_ = pandas.read_csv(path, index_col='Epoch', engine='python', skipinitialspace=True, error_bad_lines=False)\n",
    "    \n",
    "    spread_describe = csv_[['Spread','SpreadPercent']].describe(percentiles=[.0001,.001,.005,.01,.1,.25,.5,.75,.9,.99,.995,.999,.9999])\n",
    "    #print(spread_describe)\n",
    "\n",
    "    first_percentile = spread_describe.loc[['1%'],['Spread','SpreadPercent']].values\n",
    "    _99th_percentile = spread_describe.loc[['99%'],['Spread','SpreadPercent']].values\n",
    "    first_percentile_percentage = round(first_percentile[0][1],6)\n",
    "    first_percentile = round(first_percentile[0][0], 4)\n",
    "    _99th_percentile_percentage = round(_99th_percentile[0][1],6)\n",
    "    _99th_percentile = round(_99th_percentile[0][0], 4)\n",
    "\n",
    "    print(f\"1st Percentile: {first_percentile}, {first_percentile_percentage}%\")\n",
    "    print(f\"99th Percentile: {_99th_percentile}, {_99th_percentile_percentage}%\")\n",
    "    print(f\"99th-to-1st Spread Percentage: {round(_99th_percentile_percentage-first_percentile_percentage, 4)}%\")\n",
    "    print(f\"99th-to-1st Spread: {round(_99th_percentile-first_percentile, 4)}\")\n",
    "    print(f\"Runtime: {round((time.time()-start),4)} seconds\")"
   ]
  }
 ],
 "metadata": {
  "kernelspec": {
   "display_name": "Python 3",
   "language": "python",
   "name": "python3"
  },
  "language_info": {
   "codemirror_mode": {
    "name": "ipython",
    "version": 3
   },
   "file_extension": ".py",
   "mimetype": "text/x-python",
   "name": "python",
   "nbconvert_exporter": "python",
   "pygments_lexer": "ipython3",
   "version": "3.7.4"
  }
 },
 "nbformat": 4,
 "nbformat_minor": 1
}
