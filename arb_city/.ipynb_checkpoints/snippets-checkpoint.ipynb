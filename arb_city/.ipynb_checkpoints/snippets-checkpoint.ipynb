{
 "cells": [
  {
   "cell_type": "code",
   "execution_count": 1,
   "metadata": {},
   "outputs": [],
   "source": [
    "import ccxt\n",
    "from pprint import pprint\n",
    "ROUNDING = 4\n",
    "\n",
    "fees = {\n",
    "\t'bitmex': {\n",
    "\t\t'maker': -0.00025,\n",
    "\t\t'taker': 0.00075\n",
    "\t},\n",
    "\t'bitmex_swaps': {\n",
    "\t\t'maker': -0.00025,\n",
    "\t\t'taker': 0.00075\n",
    "\t},\n",
    "\t'bitmex_futures': {\n",
    "\t\t'maker': -0.00025,\n",
    "\t\t'taker': 0.00075\n",
    "\t},\n",
    "\t'deribit_swaps': {\n",
    "\t\t'maker': -0.00025,\n",
    "\t\t'taker': 0.00075\n",
    "\t},\n",
    "\t'deribit_futures': {\n",
    "\t\t'maker': -0.0002,\n",
    "\t\t'taker': 0.0005\n",
    "\t},\n",
    "\t'okex_swaps': {\n",
    "\t\t'maker': 0.0002,\n",
    "\t\t'taker': 0.00075\n",
    "\t},\n",
    "\t'okex_futures': {\n",
    "\t\t'maker': 0.0002,\n",
    "\t\t'taker': 0.0005\n",
    "\t}\n",
    "}"
   ]
  },
  {
   "cell_type": "code",
   "execution_count": 2,
   "metadata": {},
   "outputs": [
    {
     "ename": "AttributeError",
     "evalue": "module 'ccxt' has no attribute 'okex3'",
     "output_type": "error",
     "traceback": [
      "\u001b[1;31m---------------------------------------------------------------------------\u001b[0m",
      "\u001b[1;31mAttributeError\u001b[0m                            Traceback (most recent call last)",
      "\u001b[1;32m<ipython-input-2-e0617b3bbb1e>\u001b[0m in \u001b[0;36m<module>\u001b[1;34m\u001b[0m\n\u001b[0;32m      1\u001b[0m \u001b[0mbitmex\u001b[0m \u001b[1;33m=\u001b[0m \u001b[0mccxt\u001b[0m\u001b[1;33m.\u001b[0m\u001b[0mbitmex\u001b[0m\u001b[1;33m(\u001b[0m\u001b[1;33m)\u001b[0m\u001b[1;33m\u001b[0m\u001b[0m\n\u001b[0;32m      2\u001b[0m \u001b[0mderibit\u001b[0m \u001b[1;33m=\u001b[0m \u001b[0mccxt\u001b[0m\u001b[1;33m.\u001b[0m\u001b[0mderibit\u001b[0m\u001b[1;33m(\u001b[0m\u001b[1;33m)\u001b[0m\u001b[1;33m\u001b[0m\u001b[0m\n\u001b[1;32m----> 3\u001b[1;33m \u001b[0mokex\u001b[0m \u001b[1;33m=\u001b[0m \u001b[0mccxt\u001b[0m\u001b[1;33m.\u001b[0m\u001b[0mokex3\u001b[0m\u001b[1;33m(\u001b[0m\u001b[1;33m)\u001b[0m\u001b[1;33m\u001b[0m\u001b[0m\n\u001b[0m",
      "\u001b[1;31mAttributeError\u001b[0m: module 'ccxt' has no attribute 'okex3'"
     ]
    }
   ],
   "source": [
    "bitmex = ccxt.bitmex()\n",
    "deribit = ccxt.deribit()\n",
    "okex = ccxt.okex3()"
   ]
  },
  {
   "cell_type": "code",
   "execution_count": 4,
   "metadata": {},
   "outputs": [
    {
     "ename": "AttributeError",
     "evalue": "module 'ccxt' has no attribute 'markets'",
     "output_type": "error",
     "traceback": [
      "\u001b[1;31m---------------------------------------------------------------------------\u001b[0m",
      "\u001b[1;31mAttributeError\u001b[0m                            Traceback (most recent call last)",
      "\u001b[1;32m<ipython-input-4-5c8d396ab2c6>\u001b[0m in \u001b[0;36m<module>\u001b[1;34m\u001b[0m\n\u001b[1;32m----> 1\u001b[1;33m \u001b[0mprint\u001b[0m\u001b[1;33m(\u001b[0m\u001b[0mccxt\u001b[0m\u001b[1;33m.\u001b[0m\u001b[0mmarkets\u001b[0m\u001b[1;33m(\u001b[0m\u001b[1;33m)\u001b[0m\u001b[1;33m)\u001b[0m\u001b[1;33m\u001b[0m\u001b[0m\n\u001b[0m",
      "\u001b[1;31mAttributeError\u001b[0m: module 'ccxt' has no attribute 'markets'"
     ]
    }
   ],
   "source": [
    "print(ccxt.markets())"
   ]
  },
  {
   "cell_type": "code",
   "execution_count": 5,
   "metadata": {},
   "outputs": [
    {
     "name": "stdout",
     "output_type": "stream",
     "text": [
      "c:\\python36\\python.exe\n"
     ]
    }
   ],
   "source": [
    "import sys\n",
    "print(sys.executable)"
   ]
  }
 ],
 "metadata": {
  "kernelspec": {
   "display_name": "Python 3",
   "language": "python",
   "name": "python3"
  },
  "language_info": {
   "codemirror_mode": {
    "name": "ipython",
    "version": 3
   },
   "file_extension": ".py",
   "mimetype": "text/x-python",
   "name": "python",
   "nbconvert_exporter": "python",
   "pygments_lexer": "ipython3",
   "version": "3.6.0"
  }
 },
 "nbformat": 4,
 "nbformat_minor": 2
}
