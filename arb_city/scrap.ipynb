{
 "cells": [
  {
   "cell_type": "code",
   "execution_count": 2,
   "metadata": {},
   "outputs": [],
   "source": [
    "import ccxt\n",
    "from pprint import pprint\n",
    "ROUNDING = 4\n",
    "\n",
    "fees = {\n",
    "\t'bitmex': {\n",
    "\t\t'maker': -0.00025,\n",
    "\t\t'taker': 0.00075\n",
    "\t},\n",
    "\t'bitmex_swaps': {\n",
    "\t\t'maker': -0.00025,\n",
    "\t\t'taker': 0.00075\n",
    "\t},\n",
    "\t'bitmex_futures': {\n",
    "\t\t'maker': -0.00025,\n",
    "\t\t'taker': 0.00075\n",
    "\t},\n",
    "\t'deribit_swaps': {\n",
    "\t\t'maker': -0.00025,\n",
    "\t\t'taker': 0.00075\n",
    "\t},\n",
    "\t'deribit_futures': {\n",
    "\t\t'maker': -0.0002,\n",
    "\t\t'taker': 0.0005\n",
    "\t},\n",
    "\t'okex_swaps': {\n",
    "\t\t'maker': 0.0002,\n",
    "\t\t'taker': 0.00075\n",
    "\t},\n",
    "\t'okex_futures': {\n",
    "\t\t'maker': 0.0002,\n",
    "\t\t'taker': 0.0005\n",
    "\t}\n",
    "}"
   ]
  },
  {
   "cell_type": "code",
   "execution_count": 3,
   "metadata": {},
   "outputs": [],
   "source": [
    "bitmex = ccxt.bitmex()\n",
    "deribit = ccxt.deribit()\n",
    "okex = ccxt.okex3()"
   ]
  },
  {
   "cell_type": "code",
   "execution_count": 26,
   "metadata": {},
   "outputs": [],
   "source": [
    "bitmex_sep_book = bitmex.fetchOrderBook('XBTU19', limit=10000)\n",
    "bitmex_dec_book = bitmex.fetchOrderBook('XBTZ19', limit=10000)\n",
    "bitmex_perp_book = bitmex.fetchOrderBook('BTC/USD', limit=10000)\n",
    "\n",
    "deribit_sep_book = deribit.fetchOrderBook('BTC-27SEP19', limit=10000)\n",
    "deribit_dec_book = deribit.fetchOrderBook('BTC-27DEC19', limit=10000)\n",
    "deribit_perp_book = deribit.fetchOrderBook('BTC-PERPETUAL', limit=10000)\n",
    "\n",
    "okex_sep_book = okex.fetchOrderBook('BTC-USD-190927', limit=10000)\n",
    "#okex_dec_book = okex.fetchOrderBook('XBTZ19', limit=10000)\n",
    "#okex_perp_book = okex.fetchOrderBook('BTC-USD-SWAP', limit=10000)"
   ]
  },
  {
   "cell_type": "code",
   "execution_count": 19,
   "metadata": {},
   "outputs": [],
   "source": [
    "def max_index(d1):  \n",
    "    v = list(d1.values())\n",
    "    k = list(d1.keys())\n",
    "    return(k[v.index(max(v))], max(v))\n",
    "    \n",
    "def min_index(d1):\n",
    "    v = list(d1.values())\n",
    "    k = list(d1.keys())\n",
    "    return(k[v.index(min(v))], max(v))"
   ]
  },
  {
   "cell_type": "code",
   "execution_count": 27,
   "metadata": {},
   "outputs": [],
   "source": [
    "sep_bids_dict = {\n",
    "    'bitmex': bitmex_sep_book['bids'][0],\n",
    "    'deribit': deribit_sep_book['bids'][0],\n",
    "    'okex': okex_sep_book['bids'][0]\n",
    "}\n",
    "\n",
    "sep_asks_dict = {\n",
    "    'bitmex': bitmex_sep_book['asks'][0],\n",
    "    'deribit': deribit_sep_book['asks'][0],\n",
    "    'okex': okex_sep_book['asks'][0]    \n",
    "}"
   ]
  },
  {
   "cell_type": "code",
   "execution_count": 30,
   "metadata": {},
   "outputs": [
    {
     "name": "stdout",
     "output_type": "stream",
     "text": [
      "Max Sep Bid:  deribit [11710.0, 50.0]\n",
      "Min Sep Ask:  okex [11711.5, 585.0]\n"
     ]
    }
   ],
   "source": [
    "(max_bid_market, max_bid) = max_index(sep_bids_dict)\n",
    "(min_ask_market, min_ask) = min_index(sep_asks_dict)\n",
    "print(\"Max Sep Bid: \", max_bid_market, max_bid)\n",
    "print(\"Min Sep Ask: \", min_ask_market, min_ask)"
   ]
  },
  {
   "cell_type": "code",
   "execution_count": 29,
   "metadata": {},
   "outputs": [
    {
     "name": "stdout",
     "output_type": "stream",
     "text": [
      "Bitmex Sep Bid:  [11681.0, 93418.0]\n",
      "Deribit Sep Bid:  [11710.0, 50.0]\n",
      "Okex Sep Bid:  [11678.84, 100.0]\n",
      "Bitmex Sep Ask:  [11681.5, 7022.0]\n",
      "Deribit Sep Ask:  [11711.5, 585.0]\n",
      "Okex Sep Ask:  [11678.85, 485.0]\n",
      "Max Sep Bid:  [11710.0, 50.0]\n",
      "Min Sep Ask:  [11711.5, 585.0]\n",
      "Sep Spread:  -1.5\n",
      "Max Sep Bid (New):  deribit [11710.0, 50.0]\n",
      "Min Sep Ask (New):  okex [11711.5, 585.0]\n"
     ]
    }
   ],
   "source": [
    "print(\"Bitmex Sep Bid: \", bitmex_sep_book['bids'][0])\n",
    "print(\"Deribit Sep Bid: \", deribit_sep_book['bids'][0])\n",
    "print(\"Okex Sep Bid: \", okex_sep_book['bids'][0])\n",
    "print(\"Bitmex Sep Ask: \", bitmex_sep_book['asks'][0])\n",
    "print(\"Deribit Sep Ask: \", deribit_sep_book['asks'][0])\n",
    "print(\"Okex Sep Ask: \", okex_sep_book['asks'][0])\n",
    "print(\"Max Sep Bid: \", max_bid)\n",
    "print(\"Min Sep Ask: \", min_ask)\n",
    "print(\"Sep Spread: \", round(max_bid[0]-min_ask[0], ROUNDING))\n",
    "\n",
    "print(\"Max Sep Bid (New): \", max_bid_market, max_bid)\n",
    "print(\"Min Sep Ask (New): \", min_ask_market, min_ask)"
   ]
  },
  {
   "cell_type": "code",
   "execution_count": null,
   "metadata": {},
   "outputs": [],
   "source": [
    "max_sep_bid = max([bitmex_sep_book['bids'][0], deribit_sep_book['bids'][0], okex_sep_book['bids'][0]])"
   ]
  },
  {
   "cell_type": "code",
   "execution_count": null,
   "metadata": {},
   "outputs": [],
   "source": []
  },
  {
   "cell_type": "code",
   "execution_count": 1,
   "metadata": {},
   "outputs": [],
   "source": [
    "from bitmex_websocket import BitMEXWebsocket"
   ]
  },
  {
   "cell_type": "code",
   "execution_count": 2,
   "metadata": {},
   "outputs": [],
   "source": [
    "ws = BitMEXWebsocket(endpoint=\"https://testnet.bitmex.com/api/v1\", symbol=\"XBTUSD\", api_key='x48r7VjMUus3QyYZjPMEKF-V', api_secret='WYnTxTvSIKNou8FBXK-9cJtjFlQhWiaFdmJJN-se4UaCnYQW')"
   ]
  },
  {
   "cell_type": "code",
   "execution_count": 3,
   "metadata": {},
   "outputs": [
    {
     "data": {
      "text/plain": [
       "{'symbol': 'XBTUSD',\n",
       " 'rootSymbol': 'XBT',\n",
       " 'state': 'Open',\n",
       " 'typ': 'FFWCSX',\n",
       " 'listing': '2016-05-04T12:00:00.000Z',\n",
       " 'front': '2016-05-04T12:00:00.000Z',\n",
       " 'expiry': None,\n",
       " 'settle': None,\n",
       " 'relistInterval': None,\n",
       " 'inverseLeg': '',\n",
       " 'sellLeg': '',\n",
       " 'buyLeg': '',\n",
       " 'optionStrikePcnt': None,\n",
       " 'optionStrikeRound': None,\n",
       " 'optionStrikePrice': None,\n",
       " 'optionMultiplier': None,\n",
       " 'positionCurrency': 'USD',\n",
       " 'underlying': 'XBT',\n",
       " 'quoteCurrency': 'USD',\n",
       " 'underlyingSymbol': 'XBT=',\n",
       " 'reference': 'BMEX',\n",
       " 'referenceSymbol': '.BXBT',\n",
       " 'calcInterval': None,\n",
       " 'publishInterval': None,\n",
       " 'publishTime': None,\n",
       " 'maxOrderQty': 10000000,\n",
       " 'maxPrice': 1000000,\n",
       " 'lotSize': 1,\n",
       " 'tickSize': 0.5,\n",
       " 'multiplier': -100000000,\n",
       " 'settlCurrency': 'XBt',\n",
       " 'underlyingToPositionMultiplier': None,\n",
       " 'underlyingToSettleMultiplier': -100000000,\n",
       " 'quoteToSettleMultiplier': None,\n",
       " 'isQuanto': False,\n",
       " 'isInverse': True,\n",
       " 'initMargin': 0.01,\n",
       " 'maintMargin': 0.005,\n",
       " 'riskLimit': 20000000000,\n",
       " 'riskStep': 10000000000,\n",
       " 'limit': None,\n",
       " 'capped': False,\n",
       " 'taxed': True,\n",
       " 'deleverage': True,\n",
       " 'makerFee': -0.00025,\n",
       " 'takerFee': 0.00075,\n",
       " 'settlementFee': 0,\n",
       " 'insuranceFee': 0,\n",
       " 'fundingBaseSymbol': '.XBTBON8H',\n",
       " 'fundingQuoteSymbol': '.USDBON8H',\n",
       " 'fundingPremiumSymbol': '.XBTUSDPI8H',\n",
       " 'fundingTimestamp': '2019-08-12T04:00:00.000Z',\n",
       " 'fundingInterval': '2000-01-01T08:00:00.000Z',\n",
       " 'fundingRate': 0.0001,\n",
       " 'indicativeFundingRate': 0.0001,\n",
       " 'rebalanceTimestamp': None,\n",
       " 'rebalanceInterval': None,\n",
       " 'openingTimestamp': '2019-08-12T00:00:00.000Z',\n",
       " 'closingTimestamp': '2019-08-12T01:00:00.000Z',\n",
       " 'sessionInterval': '2000-01-01T01:00:00.000Z',\n",
       " 'prevClosePrice': 11461.36,\n",
       " 'limitDownPrice': None,\n",
       " 'limitUpPrice': None,\n",
       " 'bankruptLimitDownPrice': None,\n",
       " 'bankruptLimitUpPrice': None,\n",
       " 'prevTotalVolume': 113677373765,\n",
       " 'totalVolume': 113679394496,\n",
       " 'volume': 2020731,\n",
       " 'volume24h': 62871114,\n",
       " 'prevTotalTurnover': 1666175755801253,\n",
       " 'totalTurnover': 1666193312731310,\n",
       " 'turnover': 17556930057,\n",
       " 'turnover24h': 552653971770,\n",
       " 'homeNotional24h': 5526.539717699987,\n",
       " 'foreignNotional24h': 62871114,\n",
       " 'prevPrice24h': 11385,\n",
       " 'vwap': 11376.5643,\n",
       " 'highPrice': 11567.5,\n",
       " 'lowPrice': 11161.5,\n",
       " 'lastPrice': 11480,\n",
       " 'lastPriceProtected': 11480,\n",
       " 'lastTickDirection': 'PlusTick',\n",
       " 'lastChangePcnt': 0.0083,\n",
       " 'bidPrice': 11478.5,\n",
       " 'midPrice': 11479,\n",
       " 'askPrice': 11479.5,\n",
       " 'impactBidPrice': 11469.2052,\n",
       " 'impactMidPrice': 11477,\n",
       " 'impactAskPrice': 11485.0121,\n",
       " 'hasLiquidity': True,\n",
       " 'openInterest': 125346911,\n",
       " 'openValue': 1092147635543,\n",
       " 'fairMethod': 'FundingRate',\n",
       " 'fairBasisRate': 0.1095,\n",
       " 'fairBasis': 0.47,\n",
       " 'fairPrice': 11476.56,\n",
       " 'markMethod': 'FairPrice',\n",
       " 'markPrice': 11476.56,\n",
       " 'indicativeTaxRate': 0,\n",
       " 'indicativeSettlePrice': 11476.09,\n",
       " 'optionUnderlyingPrice': None,\n",
       " 'settledPrice': None,\n",
       " 'timestamp': '2019-08-12T00:45:00.000Z',\n",
       " 'tickLog': 0}"
      ]
     },
     "execution_count": 3,
     "metadata": {},
     "output_type": "execute_result"
    }
   ],
   "source": [
    "ws.get_instrument()\n",
    "#ws.get_ticker()\n",
    "#ws.funds()\n",
    "#ws.market_depth()\n",
    "#ws.open_orders()\n",
    "#ws.recent_trades()"
   ]
  }
 ],
 "metadata": {
  "kernelspec": {
   "display_name": "Python 3",
   "language": "python",
   "name": "python3"
  },
  "language_info": {
   "codemirror_mode": {
    "name": "ipython",
    "version": 3
   },
   "file_extension": ".py",
   "mimetype": "text/x-python",
   "name": "python",
   "nbconvert_exporter": "python",
   "pygments_lexer": "ipython3",
   "version": "3.7.4"
  }
 },
 "nbformat": 4,
 "nbformat_minor": 2
}
