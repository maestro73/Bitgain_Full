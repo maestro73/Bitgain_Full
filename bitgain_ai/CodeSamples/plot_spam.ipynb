{
  "nbformat_minor": 0, 
  "nbformat": 4, 
  "cells": [
    {
      "execution_count": null, 
      "cell_type": "code", 
      "source": [
        "%matplotlib inline"
      ], 
      "outputs": [], 
      "metadata": {
        "collapsed": false
      }
    }, 
    {
      "source": [
        "\n# Plotting Classification Forest Error Bars\n\n\nThis example demonstrates the calculation of confidence intervals for\n:class:`sklearn.ensemble.RandomForestClassifier` objects.\n\nThe data used here are synthetically generated to simulate a data-set in which\nemail messages are labeled as spam based on 20 different features (the default\nof :func:`sklearn.datasets.make_classification`).\n\n"
      ], 
      "cell_type": "markdown", 
      "metadata": {}
    }, 
    {
      "execution_count": null, 
      "cell_type": "code", 
      "source": [
        "import numpy as np\nfrom matplotlib import pyplot as plt\nfrom sklearn.model_selection import train_test_split\nfrom sklearn.ensemble import RandomForestClassifier\nimport forestci as fci\nfrom sklearn.datasets import make_classification\n\nspam_X, spam_y = make_classification(5000)\n\n# split the datainto training and test set\nspam_X_train, spam_X_test, spam_y_train, spam_y_test = train_test_split(\n                                                       spam_X, spam_y,\n                                                       test_size=0.2)\n\n# create RandomForestClassifier\nn_trees = 500\nspam_RFC = RandomForestClassifier(max_features=5, n_estimators=n_trees,\n                                  random_state=42)\nspam_RFC.fit(spam_X_train, spam_y_train)\nspam_y_hat = spam_RFC.predict_proba(spam_X_test)\n\nidx_spam = np.where(spam_y_test == 1)[0]\nidx_ham = np.where(spam_y_test == 0)[0]\n\n# Histogram predictions without error bars:\nfig, ax = plt.subplots(1)\nax.hist(spam_y_hat[idx_spam, 1], histtype='step', label='spam')\nax.hist(spam_y_hat[idx_ham, 1], histtype='step', label='not spam')\nax.set_xlabel('Prediction (spam probability)')\nax.set_ylabel('Number of observations')\nplt.legend()\n\n# Calculate the variance\nspam_V_IJ_unbiased = fci.random_forest_error(spam_RFC, spam_X_train,\n                                             spam_X_test)\n\n# Plot forest prediction for emails and standard deviation for estimates\n# Blue points are spam emails; Green points are non-spam emails\nfig, ax = plt.subplots(1)\nax.scatter(spam_y_hat[idx_spam, 1],\n           np.sqrt(spam_V_IJ_unbiased[idx_spam]),\n           label='spam')\n\nax.scatter(spam_y_hat[idx_ham, 1],\n           np.sqrt(spam_V_IJ_unbiased[idx_ham]),\n           label='not spam')\n\nax.set_xlabel('Prediction (spam probability)')\nax.set_ylabel('Standard deviation')\nplt.legend()\nplt.show()"
      ], 
      "outputs": [], 
      "metadata": {
        "collapsed": false
      }
    }
  ], 
  "metadata": {
    "kernelspec": {
      "display_name": "Python 2", 
      "name": "python2", 
      "language": "python"
    }, 
    "language_info": {
      "mimetype": "text/x-python", 
      "nbconvert_exporter": "python", 
      "name": "python", 
      "file_extension": ".py", 
      "version": "2.7.6", 
      "pygments_lexer": "ipython2", 
      "codemirror_mode": {
        "version": 2, 
        "name": "ipython"
      }
    }
  }
}