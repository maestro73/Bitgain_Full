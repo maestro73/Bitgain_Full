{
 "cells": [
  {
   "cell_type": "code",
   "execution_count": null,
   "metadata": {},
   "outputs": [],
   "source": [
    "#1. setup sql database for recording whaleclub data\n",
    "#2. recurring api call to whaleclub for new bid / ask data\n",
    "    # how to get last trade price??? for calculations? otherwise use bid / ask???\n",
    "    # every second/minute/etc download latest data\n",
    "    # calculate features\n",
    "    # add to db\n",
    "#3. use collected data to train scikit-learn model\n",
    "#4. from then on... every second/minute etc\n",
    "    # calculate features and save to db\n",
    "    # make prediction on latest data\n",
    "    # perform trade using pywhale, depending on prediction\n",
    "    # every so often: retrain model\n",
    "    \n",
    "#pythonanywhere_mysql = whale1238\n",
    "    "
   ]
  }
 ],
 "metadata": {
  "kernelspec": {
   "display_name": "Python 3",
   "language": "python",
   "name": "python3"
  },
  "language_info": {
   "codemirror_mode": {
    "name": "ipython",
    "version": 3
   },
   "file_extension": ".py",
   "mimetype": "text/x-python",
   "name": "python",
   "nbconvert_exporter": "python",
   "pygments_lexer": "ipython3",
   "version": "3.6.0"
  }
 },
 "nbformat": 4,
 "nbformat_minor": 2
}
