{
 "cells": [
  {
   "cell_type": "code",
   "execution_count": 1,
   "metadata": {},
   "outputs": [],
   "source": [
    "# TODO: train new model using \"profitable\" as difference between same day close - open (intra-day vs inter-day)\n",
    "\n",
    "import pandas as pd # data processing, CSV file I/O (e.g. pd.read_csv)\n",
    "import seaborn as sns # data visualization library  \n",
    "import matplotlib.pyplot as plt\n",
    "import time\n",
    "from tqdm import tqdm\n",
    "import numpy as np\n",
    "import stockstats as ss\n",
    "\n",
    "from sklearn.model_selection import train_test_split,GridSearchCV,cross_val_score\n",
    "from sklearn.ensemble import RandomForestClassifier\n",
    "from sklearn.metrics import f1_score,confusion_matrix,accuracy_score\n",
    "from sklearn.feature_selection import SelectKBest,chi2,RFE,RFECV\n",
    "\n",
    "import random\n",
    "import quandl\n",
    "\n",
    "FEES = 0.05\n",
    "def profitable(x):\n",
    "    if x[\"change\"] => 0 + FEES:\n",
    "        return 1\n",
    "    elif x[\"change\"] <= (0 + FEES:\n",
    "        return 0"
   ]
  },
  {
   "cell_type": "code",
   "execution_count": null,
   "metadata": {},
   "outputs": [],
   "source": [
    "#btc[\"shift1\"] = btc[\"close\"] - btc[\"close\"].shift(-1) #markov function exists"
   ]
  },
  {
   "cell_type": "code",
   "execution_count": 2,
   "metadata": {
    "scrolled": false
   },
   "outputs": [
    {
     "name": "stdout",
     "output_type": "stream",
     "text": [
      "         Date        Open        High         Low     Close   Adj Close  \\\n",
      "0  2000-01-03  148.250000  148.250000  143.875000  145.4375  101.872139   \n",
      "1  2000-01-04  143.531204  144.062500  139.640594  139.7500   97.888344   \n",
      "2  2000-01-05  139.937500  141.531204  137.250000  140.0000   98.063423   \n",
      "3  2000-01-06  139.625000  141.500000  137.750000  137.7500   96.487427   \n",
      "4  2000-01-07  140.312500  145.750000  140.062500  145.7500  102.091049   \n",
      "\n",
      "     Volume  \n",
      "0   8164300  \n",
      "1   8089800  \n",
      "2  12177900  \n",
      "3   6227200  \n",
      "4   8066500  \n",
      "<class 'pandas.core.frame.DataFrame'>\n",
      "(4796, 7)\n"
     ]
    },
    {
     "data": {
      "text/plain": [
       "'\\nbtc_close = quandl.get(\"BCHAIN/MKPRU\", authtoken=\"BEcxZbU_yoMRvS_55tEF\") #downloads btc close data\\nbtc_close.columns = [\"close\"] #renames only column \"value\" to \"close\", btc_close.rename() also works\\n\\nbtc_vol = quandl.get(\"BCHAIN/ETRAV\", authtoken=\"BEcxZbU_yoMRvS_55tEF\") #downloads vol data\\nbtc_vol.columns = [\"volume\"]\\n\\nbtc_change = btc_close/btc_close.shift(1) - 1\\nbtc_change.columns = [\"change\"]\\n\\nbtc = btc_close.join([btc_vol, btc_change])\\n#btc_clean = btc[1:].dropna() #removes all rows containing any NaN values\\nbtc_2011_2018 = btc.iloc[728:3650] #selects data from 2011-2018, pre-2011 data is not reliable\\n\\n#print(btc_2011_2018)\\n\\n#print(btc_close.iloc[600:,:]) #selects startrow:endrow, startcol:endcol\\nbtc_2009 = btc.iloc[:363]\\nbtc_2010 = btc.iloc[363:728]\\nbtc_2011 = btc.iloc[728:1093]\\nbtc_2012 = btc.iloc[1093:1459]\\nbtc_2013 = btc.iloc[1459:1824]\\nbtc_2014 = btc.iloc[1824:2189]\\nbtc_2015 = btc.iloc[2189:2554]\\nbtc_2016 = btc.iloc[2554:2920]\\nbtc_2017 = btc.iloc[2920:3285]\\nbtc_2018 = btc.iloc[3285:3650]\\nbtc_2019 = btc.iloc[3650:]\\n#print(btc_2011)\\n'"
      ]
     },
     "execution_count": 2,
     "metadata": {},
     "output_type": "execute_result"
    }
   ],
   "source": [
    "#step 1: data download\n",
    "\n",
    "btc = pd.read_csv(\"../Data/SPY_in_theory_from_1-01-00_to_1-26-19.csv\")\n",
    "print(btc.head())\n",
    "print(type(btc))\n",
    "print(btc.shape)\n",
    "\n",
    "'''\n",
    "btc = quandl.get(\"BCHARTS/COINBASEUSD\", authtoken=\"BEcxZbU_yoMRvS_55tEF\")\n",
    "btc = btc.drop(columns = [\"Volume (Currency)\", \"Weighted Price\"]).rename(index=str, columns={\"Open\": \"open\", \"High\": \"high\", \"Low\": \"low\", \"Close\": \"close\", \"Volume (BTC)\": \"volume\"})\n",
    "print(btc)\n",
    "'''\n",
    "\n",
    "'''\n",
    "btc_close = quandl.get(\"BCHAIN/MKPRU\", authtoken=\"BEcxZbU_yoMRvS_55tEF\") #downloads btc close data\n",
    "btc_close.columns = [\"close\"] #renames only column \"value\" to \"close\", btc_close.rename() also works\n",
    "\n",
    "btc_vol = quandl.get(\"BCHAIN/ETRAV\", authtoken=\"BEcxZbU_yoMRvS_55tEF\") #downloads vol data\n",
    "btc_vol.columns = [\"volume\"]\n",
    "\n",
    "btc_change = btc_close/btc_close.shift(1) - 1\n",
    "btc_change.columns = [\"change\"]\n",
    "\n",
    "btc = btc_close.join([btc_vol, btc_change])\n",
    "#btc_clean = btc[1:].dropna() #removes all rows containing any NaN values\n",
    "btc_2011_2018 = btc.iloc[728:3650] #selects data from 2011-2018, pre-2011 data is not reliable\n",
    "\n",
    "#print(btc_2011_2018)\n",
    "\n",
    "#print(btc_close.iloc[600:,:]) #selects startrow:endrow, startcol:endcol\n",
    "btc_2009 = btc.iloc[:363]\n",
    "btc_2010 = btc.iloc[363:728]\n",
    "btc_2011 = btc.iloc[728:1093]\n",
    "btc_2012 = btc.iloc[1093:1459]\n",
    "btc_2013 = btc.iloc[1459:1824]\n",
    "btc_2014 = btc.iloc[1824:2189]\n",
    "btc_2015 = btc.iloc[2189:2554]\n",
    "btc_2016 = btc.iloc[2554:2920]\n",
    "btc_2017 = btc.iloc[2920:3285]\n",
    "btc_2018 = btc.iloc[3285:3650]\n",
    "btc_2019 = btc.iloc[3650:]\n",
    "#print(btc_2011)\n",
    "'''"
   ]
  },
  {
   "cell_type": "code",
   "execution_count": 3,
   "metadata": {},
   "outputs": [
    {
     "name": "stderr",
     "output_type": "stream",
     "text": [
      "c:\\python36\\lib\\site-packages\\pandas\\core\\indexing.py:189: SettingWithCopyWarning: \n",
      "A value is trying to be set on a copy of a slice from a DataFrame\n",
      "\n",
      "See the caveats in the documentation: http://pandas.pydata.org/pandas-docs/stable/indexing.html#indexing-view-versus-copy\n",
      "  self._setitem_with_indexer(indexer, value)\n",
      "c:\\python36\\lib\\site-packages\\stockstats.py:387: FutureWarning: Currently, 'apply' passes the values as ndarrays to the applied function. In the future, this will change to passing it as Series objects. You need to specify 'raw=True' to keep the current behaviour, and you can pass 'raw=False' to silence this warning\n",
      "  lambda x: np.fabs(x - x.mean()).mean())\n",
      "c:\\python36\\lib\\site-packages\\numpy\\core\\fromnumeric.py:83: RuntimeWarning: invalid value encountered in reduce\n",
      "  return ufunc.reduce(obj, axis, dtype, out, **passkwargs)\n"
     ]
    },
    {
     "name": "stdout",
     "output_type": "stream",
     "text": [
      "4785\n",
      "                  open        high         low       close   adj close  \\\n",
      "date                                                                     \n",
      "2000-01-18  145.343704  146.625000  145.187500  145.812500  102.134834   \n",
      "2000-01-19  145.312500  147.000000  145.000000  147.000000  102.966591   \n",
      "2000-01-20  146.968704  146.968704  143.812500  144.750000  101.390602   \n",
      "2000-01-21  145.500000  145.500000  144.062500  144.437500  101.171661   \n",
      "2000-01-24  145.656204  145.843704  139.406204  140.343704   98.304153   \n",
      "\n",
      "             volume  close_26_ema      macd     macds     macdh     ...      \\\n",
      "date                                                                ...       \n",
      "2000-01-18  6488500    144.052910  0.437536  0.245332  0.384409     ...       \n",
      "2000-01-19  6157900    144.415006  0.521630  0.304669  0.433922     ...       \n",
      "2000-01-20  5800100    144.454251  0.449979  0.335422  0.229114     ...       \n",
      "2000-01-21  6244800    144.452369  0.372391  0.343156  0.058470     ...       \n",
      "2000-01-24  7896900    144.007912  0.066194  0.285743 -0.439098     ...       \n",
      "\n",
      "                   dx   dx_6_ema        adx  adx_6_ema       adxr      trix  \\\n",
      "date                                                                          \n",
      "2000-01-18   8.540523  15.869465  15.869465  28.088327  28.088327  0.071401   \n",
      "2000-01-19  12.871273  14.991150  14.991150  24.251531  24.251531  0.092792   \n",
      "2000-01-20   3.776816  11.729524  11.729524  20.609576  20.609576  0.102078   \n",
      "2000-01-21   3.776816   9.428329   9.428329  17.374171  17.374171  0.102960   \n",
      "2000-01-24  45.636239  19.867390  19.867390  18.092988  18.092988  0.085569   \n",
      "\n",
      "            trix_9_sma    change          vr  profitable  \n",
      "date                                                      \n",
      "2000-01-18   -0.130082 -0.786701  109.554504         1.0  \n",
      "2000-01-19   -0.069515  0.814402  127.040143         0.0  \n",
      "2000-01-20   -0.013384 -1.530612  109.075749         0.0  \n",
      "2000-01-21    0.026155 -0.215889   94.663343         0.0  \n",
      "2000-01-24    0.049948 -2.834303   81.110686         1.0  \n",
      "\n",
      "[5 rows x 57 columns]\n"
     ]
    }
   ],
   "source": [
    "# step 2: feature engineering\n",
    "\n",
    "##this is a  very different process depending on data set\n",
    "##here i'm calculating ~50 techincal financial indicators that i know nothing about\n",
    "\n",
    "btc = ss.StockDataFrame.retype(btc) #coerces df into StockDataFrame again\n",
    "\n",
    "#calculates and appends TA indicators to stock\n",
    "\n",
    "btc['macd'] # calculate MACD indicator for the entire \"btc\" df and automatically appends to new column\n",
    "btc['volume_delta']\n",
    "btc['open_-1_r']\n",
    "btc['cr']\n",
    "btc['cr-ma1']\n",
    "btc['cr-ma2']\n",
    "btc['cr-ma3']\n",
    "btc[\"rsi_6\"]\n",
    "btc[\"rsi_12\"]\n",
    "btc[\"wr_10\"]\n",
    "btc[\"cci\"]\n",
    "btc['tr']\n",
    "btc['atr']\n",
    "btc['dma']\n",
    "btc['pdi']\n",
    "btc['mdi']\n",
    "btc['dx']\n",
    "btc['adx']\n",
    "btc['adxr']\n",
    "btc['trix']\n",
    "btc['trix_9_sma']\n",
    "btc['vr']\n",
    "btc.head()\n",
    "\n",
    "#apply profitable function then clean dataset again\n",
    "btc[\"profitable\"] = btc.apply(profitable, axis=1) #adding column \"profitable\" where +1 represents price went up and 0 represents price went down\n",
    "btc[\"profitable\"] = btc[\"profitable\"].shift(-1) #shifts \"profitable\" target column up 1 so current days stats predict tomorrow's profitability \n",
    "\n",
    "btc = btc[1:len(btc.index)-1] #removes first & last entry that now has NaN \"profitable\" column\n",
    "btc = btc[1:].dropna() #removes all rows containing any NaN values\n",
    "print(len(btc))\n",
    "print(btc.head())"
   ]
  },
  {
   "cell_type": "code",
   "execution_count": 5,
   "metadata": {},
   "outputs": [
    {
     "name": "stdout",
     "output_type": "stream",
     "text": [
      "(3828, 55)\n",
      "(957, 55)\n",
      "(4785, 55)\n",
      "4785\n"
     ]
    }
   ],
   "source": [
    "# step 3: data preprocessing\n",
    "\n",
    "#create train-test sets, then std'ize and check lengths\n",
    "\n",
    "y = btc[\"profitable\"] #y is the variables that you are trying to predict, in this case it's binary form (1 or 0) + or - 0% price change from yesterday\n",
    "x = btc.drop([\"profitable\", \"change\"], axis=1) #move drop until after split to track data for backtesting\n",
    "\n",
    "import random\n",
    "train_percent = 0.8 # if train_percent equals 0.8 it means 80% of the dataset will be used for training & 20% for testing\n",
    "train_size = int(len(btc)*train_percent)\n",
    "RANDOM_STATE = 123\n",
    "random.seed(RANDOM_STATE)\n",
    "#x_train_raw,x_test_raw,y_train,y_test = train_test_split(stock_month,y,test_size = .3,random_state = RANDOM_STATE)\n",
    "\n",
    "#the next four lines will split x (independent variables) & y (dependent variables) intro training & test sets\n",
    "#.iloc[startrow:endrow, startcol:endcol]\n",
    "x_train = x.iloc[:train_size] # x_train is now \"train_size\" percent of what was x\n",
    "x_test = x.iloc[train_size:]\n",
    "y_train = y.iloc[:train_size]\n",
    "y_test = y.iloc[train_size:]\n",
    "\n",
    "#the more efficient way to do this is using sklearn.preprocessing.StandardScaler function\n",
    "x_std_train = (x_train - x_train.mean())/x_train.std()\n",
    "x_std_test = (x_test - x_test.mean())/x_test.std()\n",
    "# there is no need to standardize the y values in this case as it is a binary classification problem (already only 1s & 0s)\n",
    "\n",
    "\n",
    "# STD averaging between 0-1 and kinda throwing out outliers but maybe not LIAM wants to know more \n",
    "x_std_train = x_std_train.drop([\"open\",\"high\",\"low\",\"close\",\"volume\"], axis=1)\n",
    "x_std_test = x_std_test.drop([\"open\",\"high\",\"low\",\"close\",\"volume\"], axis=1)\n",
    "\n",
    "print(x_train.shape) # shape returns tuple (x_train rows, x_train columns), x_train rows should be train_size% of x\n",
    "print(x_test.shape)\n",
    "print(x.shape)\n",
    "print(x_train.shape[0]+x_test.shape[0])"
   ]
  },
  {
   "cell_type": "code",
   "execution_count": 6,
   "metadata": {},
   "outputs": [
    {
     "name": "stderr",
     "output_type": "stream",
     "text": [
      "c:\\python36\\lib\\site-packages\\sklearn\\ensemble\\forest.py:246: FutureWarning: The default value of n_estimators will change from 10 in version 0.20 to 100 in 0.22.\n",
      "  \"10 in version 0.20 to 100 in 0.22.\", FutureWarning)\n",
      "[Parallel(n_jobs=1)]: Using backend SequentialBackend with 1 concurrent workers.\n",
      "[Parallel(n_jobs=1)]: Done  10 out of  10 | elapsed:    0.1s finished\n",
      "[Parallel(n_jobs=1)]: Using backend SequentialBackend with 1 concurrent workers.\n",
      "[Parallel(n_jobs=1)]: Done  10 out of  10 | elapsed:    0.0s finished\n"
     ]
    },
    {
     "name": "stdout",
     "output_type": "stream",
     "text": [
      "[1. 1. 0. 1. 1. 1. 1. 0. 1. 1. 1. 1. 0. 1. 1. 1. 1. 1. 1. 0. 0. 1. 1. 1.\n",
      " 0. 1. 1. 1. 0. 1. 1. 1. 1. 1. 1. 1. 1. 0. 1. 0. 1. 1. 1. 1. 1. 1. 0. 0.\n",
      " 1. 1. 1. 1. 1. 1. 1. 0. 1. 1. 1. 1. 1. 0. 0. 0. 0. 1. 1. 0. 1. 1. 0. 0.\n",
      " 1. 1. 1. 1. 1. 1. 1. 1. 1. 0. 0. 0. 0. 1. 1. 0. 0. 1. 1. 1. 1. 0. 1. 0.\n",
      " 0. 1. 0. 1. 1. 1. 0. 0. 1. 0. 1. 0. 0. 0. 1. 1. 1. 1. 0. 1. 0. 1. 0. 1.\n",
      " 0. 1. 0. 1. 1. 0. 1. 0. 0. 1. 1. 1. 1. 1. 1. 1. 0. 1. 0. 0. 0. 1. 0. 0.\n",
      " 0. 0. 0. 0. 1. 1. 1. 1. 0. 1. 1. 0. 0. 1. 1. 1. 1. 0. 0. 0. 1. 0. 0. 1.\n",
      " 0. 0. 1. 1. 1. 1. 1. 1. 0. 0. 1. 1. 1. 1. 1. 0. 1. 1. 0. 0. 0. 1. 0. 1.\n",
      " 0. 0. 0. 0. 0. 0. 0. 0. 1. 0. 1. 0. 1. 1. 1. 0. 0. 1. 0. 1. 1. 1. 0. 0.\n",
      " 1. 1. 0. 1. 0. 0. 1. 1. 1. 0. 1. 1. 0. 1. 0. 1. 1. 0. 0. 1. 1. 1. 0. 0.\n",
      " 0. 0. 0. 0. 0. 0. 0. 0. 0. 0. 0. 1. 0. 1. 1. 1. 1. 0. 1. 0. 0. 0. 1. 0.\n",
      " 0. 0. 0. 1. 1. 1. 1. 1. 1. 1. 1. 1. 1. 1. 1. 0. 0. 0. 1. 1. 1. 1. 0. 0.\n",
      " 0. 0. 0. 0. 0. 0. 0. 0. 1. 0. 1. 1. 1. 0. 1. 1. 0. 1. 1. 1. 0. 0. 1. 1.\n",
      " 1. 0. 1. 1. 1. 1. 1. 0. 0. 1. 0. 0. 0. 0. 1. 1. 0. 1. 1. 1. 0. 1. 1. 0.\n",
      " 0. 1. 1. 0. 0. 1. 1. 0. 1. 0. 1. 1. 0. 1. 1. 1. 1. 0. 0. 0. 1. 0. 1. 1.\n",
      " 0. 1. 0. 0. 1. 1. 1. 1. 0. 1. 1. 1. 1. 0. 0. 0. 1. 0. 0. 1. 1. 0. 1. 1.\n",
      " 0. 0. 0. 0. 1. 1. 1. 1. 1. 1. 1. 1. 1. 0. 0. 1. 0. 1. 1. 1. 1. 1. 0. 0.\n",
      " 0. 1. 1. 1. 0. 1. 1. 0. 1. 1. 0. 1. 0. 1. 0. 0. 0. 0. 0. 0. 0. 1. 1. 1.\n",
      " 0. 1. 1. 0. 0. 1. 0. 0. 0. 0. 1. 1. 1. 0. 0. 1. 0. 1. 0. 0. 0. 0. 1. 0.\n",
      " 1. 1. 1. 1. 0. 1. 1. 1. 1. 0. 1. 1. 0. 0. 1. 1. 0. 0. 0. 0. 0. 0. 1. 0.\n",
      " 0. 1. 0. 1. 0. 1. 1. 0. 0. 0. 1. 1. 1. 1. 1. 1. 1. 0. 0. 0. 1. 0. 0. 0.\n",
      " 0. 0. 1. 0. 1. 0. 0. 1. 1. 1. 0. 1. 1. 0. 0. 0. 0. 0. 1. 0. 0. 0. 1. 1.\n",
      " 0. 1. 0. 0. 1. 0. 1. 0. 1. 1. 1. 1. 1. 1. 1. 0. 1. 1. 1. 1. 1. 0. 1. 1.\n",
      " 0. 1. 1. 1. 0. 1. 0. 0. 0. 0. 0. 1. 1. 1. 1. 0. 0. 1. 0. 0. 1. 0. 1. 1.\n",
      " 1. 0. 1. 0. 0. 0. 0. 1. 0. 0. 1. 1. 0. 0. 1. 1. 1. 1. 1. 1. 0. 1. 1. 0.\n",
      " 1. 0. 0. 0. 0. 1. 0. 0. 0. 0. 1. 0. 1. 1. 1. 1. 0. 1. 1. 1. 1. 1. 0. 1.\n",
      " 1. 1. 1. 0. 1. 0. 0. 1. 0. 0. 1. 1. 1. 1. 1. 1. 0. 1. 0. 0. 0. 1. 0. 0.\n",
      " 0. 1. 0. 0. 0. 0. 0. 0. 1. 1. 1. 1. 1. 1. 0. 1. 1. 0. 0. 1. 0. 0. 0. 0.\n",
      " 0. 1. 0. 0. 0. 0. 0. 0. 1. 1. 0. 1. 1. 1. 1. 1. 0. 0. 0. 1. 1. 0. 0. 0.\n",
      " 0. 0. 1. 0. 0. 0. 0. 0. 0. 1. 0. 1. 0. 1. 1. 1. 1. 0. 0. 0. 0. 0. 0. 0.\n",
      " 0. 0. 0. 0. 0. 0. 0. 0. 1. 1. 1. 0. 1. 1. 1. 1. 0. 1. 1. 1. 0. 0. 1. 0.\n",
      " 1. 1. 1. 0. 0. 1. 1. 1. 0. 1. 1. 1. 0. 0. 0. 1. 0. 0. 0. 1. 1. 1. 0. 1.\n",
      " 1. 0. 0. 1. 1. 0. 1. 0. 1. 0. 0. 1. 1. 1. 1. 1. 1. 0. 1. 0. 0. 1. 0. 0.\n",
      " 0. 0. 0. 1. 0. 0. 0. 1. 1. 1. 1. 0. 1. 0. 1. 0. 1. 1. 0. 1. 1. 1. 1. 1.\n",
      " 1. 1. 1. 1. 0. 1. 1. 1. 0. 0. 1. 1. 1. 1. 1. 0. 1. 1. 0. 0. 1. 1. 1. 1.\n",
      " 1. 0. 1. 1. 0. 0. 0. 1. 1. 0. 0. 0. 1. 1. 1. 1. 0. 1. 1. 1. 1. 0. 1. 0.\n",
      " 1. 1. 1. 1. 1. 0. 0. 1. 0. 0. 1. 1. 0. 0. 0. 0. 0. 1. 1. 1. 1. 0. 0. 1.\n",
      " 1. 0. 1. 1. 1. 1. 1. 0. 0. 1. 0. 1. 1. 0. 1. 0. 0. 0. 1. 1. 1. 1. 1. 0.\n",
      " 1. 1. 1. 1. 1. 1. 1. 0. 0. 1. 0. 0. 1. 1. 1. 0. 1. 1. 1. 1. 1. 1. 1. 1.\n",
      " 1. 1. 0. 0. 1. 1. 1. 1. 1. 1. 1. 1. 0. 0. 1. 1. 1. 0. 1. 0. 0.]\n",
      "Accuracy Score: 0.503657\n",
      "F1 score:  0.5463228271251195\n"
     ]
    },
    {
     "data": {
      "image/png": "[encoded data removed]",
      "text/plain": [
       "<Figure size 432x288 with 2 Axes>"
      ]
     },
     "metadata": {
      "needs_background": "light"
     },
     "output_type": "display_data"
    }
   ],
   "source": [
    "# step 4: training the \"model\", there are dozens of sklearn models for both classification & regression, each with their own \"specialty\"\n",
    "\n",
    "# this line defines object clf_rf as an instance of the class sk-learn.RandomForestClassifier\n",
    "clf_rf = RandomForestClassifier(random_state = RANDOM_STATE, verbose=1)\n",
    "# does fit will \"train\" clr_rf on x_std_train and y_train\n",
    "clr_rf = clf_rf.fit(x_std_train,y_train)\n",
    "\n",
    "# clf_rf.predict accepts parameter \"x_std_test\"\n",
    "predictions = clf_rf.predict(x_std_test)\n",
    "print(predictions)\n",
    "\n",
    "\n",
    "\n",
    "\n",
    "# step 5: reviewing the results of the predictions and making changes to \"hyperparameters\"\n",
    "\n",
    "# TODO: compare accuracy to y_std_test when dealing with regression instead of binary classification\n",
    "ac = accuracy_score(predictions,y_test) # will calculate ac as (# correct / total guesses)\n",
    "cm = confusion_matrix(predictions,y_test) \n",
    "\n",
    "print('Accuracy Score: %f' % ac)\n",
    "sns.heatmap(cm,annot = True,fmt = 'd')\n",
    "\n",
    "f1 = f1_score(predictions, y_test)\n",
    "#type(predictions)\n",
    "print(\"F1 score: \", f1)"
   ]
  },
  {
   "cell_type": "code",
   "execution_count": 17,
   "metadata": {},
   "outputs": [
    {
     "name": "stderr",
     "output_type": "stream",
     "text": [
      "c:\\python36\\lib\\site-packages\\sklearn\\model_selection\\_split.py:2053: FutureWarning: You should specify a value for 'cv' instead of relying on the default value. The default value will change from 3 to 5 in version 0.22.\n",
      "  warnings.warn(CV_WARNING, FutureWarning)\n"
     ]
    },
    {
     "name": "stdout",
     "output_type": "stream",
     "text": [
      "Fitting 3 folds for each of 3200 candidates, totalling 9600 fits\n"
     ]
    },
    {
     "name": "stderr",
     "output_type": "stream",
     "text": [
      "[Parallel(n_jobs=-1)]: Using backend LokyBackend with 8 concurrent workers.\n",
      "[Parallel(n_jobs=-1)]: Done  34 tasks      | elapsed:   12.6s\n",
      "[Parallel(n_jobs=-1)]: Done 184 tasks      | elapsed:   18.7s\n",
      "[Parallel(n_jobs=-1)]: Done 434 tasks      | elapsed:   29.8s\n",
      "[Parallel(n_jobs=-1)]: Done 784 tasks      | elapsed:   49.0s\n",
      "[Parallel(n_jobs=-1)]: Done 1234 tasks      | elapsed:  1.3min\n",
      "[Parallel(n_jobs=-1)]: Done 1784 tasks      | elapsed:  1.9min\n",
      "[Parallel(n_jobs=-1)]: Done 2434 tasks      | elapsed:  2.8min\n",
      "[Parallel(n_jobs=-1)]: Done 3184 tasks      | elapsed:  3.9min\n",
      "[Parallel(n_jobs=-1)]: Done 4034 tasks      | elapsed:  5.4min\n",
      "[Parallel(n_jobs=-1)]: Done 4984 tasks      | elapsed:  7.3min\n",
      "[Parallel(n_jobs=-1)]: Done 6034 tasks      | elapsed:  9.7min\n",
      "[Parallel(n_jobs=-1)]: Done 7184 tasks      | elapsed: 12.7min\n",
      "[Parallel(n_jobs=-1)]: Done 8434 tasks      | elapsed: 16.7min\n",
      "[Parallel(n_jobs=-1)]: Done 9600 out of 9600 | elapsed: 21.0min finished\n",
      "[Parallel(n_jobs=1)]: Using backend SequentialBackend with 1 concurrent workers.\n",
      "[Parallel(n_jobs=1)]: Done  10 out of  10 | elapsed:    0.8s finished\n",
      "c:\\python36\\lib\\site-packages\\sklearn\\ensemble\\forest.py:458: UserWarning: Some inputs do not have OOB scores. This probably means too few trees were used to compute any reliable oob estimates.\n",
      "  warn(\"Some inputs do not have OOB scores. \"\n",
      "c:\\python36\\lib\\site-packages\\sklearn\\ensemble\\forest.py:463: RuntimeWarning: invalid value encountered in true_divide\n",
      "  predictions[k].sum(axis=1)[:, np.newaxis])\n",
      "[Parallel(n_jobs=1)]: Using backend SequentialBackend with 1 concurrent workers.\n",
      "[Parallel(n_jobs=1)]: Done  10 out of  10 | elapsed:    0.0s finished\n"
     ]
    },
    {
     "name": "stdout",
     "output_type": "stream",
     "text": [
      "Accuracy Score: 0.539185\n",
      "F1 score:  0.637633525061627\n",
      "Best Params:  {'criterion': 'entropy', 'max_features': 42, 'min_samples_leaf': 48, 'oob_score': True, 'warm_start': True}\n"
     ]
    },
    {
     "data": {
      "image/png": "[encoded data removed]",
      "text/plain": [
       "<Figure size 432x288 with 2 Axes>"
      ]
     },
     "metadata": {
      "needs_background": "light"
     },
     "output_type": "display_data"
    }
   ],
   "source": [
    "params = {'min_samples_leaf':range(10,50),\n",
    "          'max_features':range(10,50),\n",
    "          #'max_features':['sqrt','log2'],\n",
    "          'warm_start':[True],\n",
    "          'criterion':['entropy'],\n",
    "          #'min_samples_split':range(2,10),\n",
    "          'oob_score':[True,False]\n",
    "          }\n",
    "rf_model = GridSearchCV(clf_rf, param_grid=params, n_jobs=-1, verbose=True, scoring='accuracy')\n",
    "rf_model = rf_model.fit(x_std_train,y_train)\n",
    "\n",
    "predictions = rf_model.predict(x_std_test)\n",
    "\n",
    "ac = accuracy_score(predictions,y_test)\n",
    "cm = confusion_matrix(predictions,y_test)\n",
    "\n",
    "print('Accuracy Score: %f' % ac)\n",
    "sns.heatmap(cm,annot = True,fmt = 'd')\n",
    "\n",
    "f1 = f1_score(predictions, y_test)\n",
    "#type(predictions)\n",
    "print(\"F1 score: \", f1)\n",
    "print(\"Best Params: \", rf_model.best_params_)"
   ]
  },
  {
   "cell_type": "code",
   "execution_count": 85,
   "metadata": {},
   "outputs": [
    {
     "name": "stderr",
     "output_type": "stream",
     "text": [
      "c:\\python36\\lib\\site-packages\\sklearn\\model_selection\\_split.py:2053: FutureWarning: You should specify a value for 'cv' instead of relying on the default value. The default value will change from 3 to 5 in version 0.22.\n",
      "  warnings.warn(CV_WARNING, FutureWarning)\n"
     ]
    },
    {
     "name": "stdout",
     "output_type": "stream",
     "text": [
      "Fitting 3 folds for each of 3200 candidates, totalling 9600 fits\n"
     ]
    },
    {
     "name": "stderr",
     "output_type": "stream",
     "text": [
      "[Parallel(n_jobs=-1)]: Using backend LokyBackend with 8 concurrent workers.\n",
      "[Parallel(n_jobs=-1)]: Done  34 tasks      | elapsed:    8.4s\n",
      "[Parallel(n_jobs=-1)]: Done 184 tasks      | elapsed:   11.3s\n",
      "[Parallel(n_jobs=-1)]: Done 434 tasks      | elapsed:   16.3s\n",
      "[Parallel(n_jobs=-1)]: Done 784 tasks      | elapsed:   24.3s\n",
      "[Parallel(n_jobs=-1)]: Done 1234 tasks      | elapsed:   35.2s\n",
      "[Parallel(n_jobs=-1)]: Done 1784 tasks      | elapsed:   49.1s\n",
      "[Parallel(n_jobs=-1)]: Done 2434 tasks      | elapsed:  1.1min\n",
      "[Parallel(n_jobs=-1)]: Done 3184 tasks      | elapsed:  1.5min\n",
      "[Parallel(n_jobs=-1)]: Done 4034 tasks      | elapsed:  2.0min\n",
      "[Parallel(n_jobs=-1)]: Done 4984 tasks      | elapsed:  2.6min\n",
      "[Parallel(n_jobs=-1)]: Done 6034 tasks      | elapsed:  3.3min\n",
      "[Parallel(n_jobs=-1)]: Done 7184 tasks      | elapsed:  4.2min\n",
      "[Parallel(n_jobs=-1)]: Done 8434 tasks      | elapsed:  5.3min\n",
      "[Parallel(n_jobs=-1)]: Done 9600 out of 9600 | elapsed:  6.4min finished\n",
      "[Parallel(n_jobs=1)]: Using backend SequentialBackend with 1 concurrent workers.\n",
      "[Parallel(n_jobs=1)]: Done  10 out of  10 | elapsed:    0.0s finished\n",
      "c:\\python36\\lib\\site-packages\\sklearn\\ensemble\\forest.py:458: UserWarning: Some inputs do not have OOB scores. This probably means too few trees were used to compute any reliable oob estimates.\n",
      "  warn(\"Some inputs do not have OOB scores. \"\n",
      "c:\\python36\\lib\\site-packages\\sklearn\\ensemble\\forest.py:463: RuntimeWarning: invalid value encountered in true_divide\n",
      "  predictions[k].sum(axis=1)[:, np.newaxis])\n"
     ]
    }
   ],
   "source": [
    "params = {'min_samples_leaf':range(30,50),\n",
    "          'max_features':range(10,30),\n",
    "          #'max_features':['sqrt','log2'],\n",
    "          'warm_start':[True],\n",
    "          'criterion':['entropy'],\n",
    "          #'min_samples_split':range(2,10),\n",
    "          'oob_score':[True,False]\n",
    "          }\n",
    "rf_searched = GridSearchCV(clf_rf, param_grid=params, n_jobs=-1, verbose=True, scoring='accuracy')\n",
    "rf_searched = rf_model.fit(x_std_train,y_train)"
   ]
  },
  {
   "cell_type": "code",
   "execution_count": 7,
   "metadata": {},
   "outputs": [],
   "source": [
    "answers_df = pd.DataFrame(\n",
    "    {#'date': list(x[\"date\"]),\n",
    "    'close': list(x_test[\"close\"]),\n",
    "    'predictions': list(predictions)\n",
    "    })\n",
    "\n",
    "answers_df.to_csv(\"quandl_testing_SPY_trial2.csv\")"
   ]
  },
  {
   "cell_type": "code",
   "execution_count": 23,
   "metadata": {},
   "outputs": [
    {
     "name": "stdout",
     "output_type": "stream",
     "text": [
      "<class 'pandas.core.frame.DataFrame'>\n"
     ]
    }
   ],
   "source": [
    "print(type(x))"
   ]
  }
 ],
 "metadata": {
  "kernelspec": {
   "display_name": "Python 3",
   "language": "python",
   "name": "python3"
  },
  "language_info": {
   "codemirror_mode": {
    "name": "ipython",
    "version": 3
   },
   "file_extension": ".py",
   "mimetype": "text/x-python",
   "name": "python",
   "nbconvert_exporter": "python",
   "pygments_lexer": "ipython3",
   "version": "3.6.0"
  }
 },
 "nbformat": 4,
 "nbformat_minor": 2
}
