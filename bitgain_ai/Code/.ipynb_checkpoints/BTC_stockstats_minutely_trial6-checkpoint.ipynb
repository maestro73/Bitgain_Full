{
 "cells": [
  {
   "cell_type": "code",
   "execution_count": 2,
   "metadata": {},
   "outputs": [],
   "source": [
    "import pandas as pd # data processing, CSV file I/O (e.g. pd.read_csv)\n",
    "import seaborn as sns # data visualization library  \n",
    "import matplotlib.pyplot as plt\n",
    "import time\n",
    "from tqdm import tqdm\n",
    "import numpy as np\n",
    "import stockstats as ss\n",
    "\n",
    "from sklearn.model_selection import train_test_split,GridSearchCV,cross_val_score\n",
    "from sklearn.ensemble import RandomForestClassifier\n",
    "from sklearn.metrics import f1_score,confusion_matrix,accuracy_score\n",
    "from sklearn.feature_selection import SelectKBest,chi2,RFE,RFECV\n",
    "\n",
    "import random"
   ]
  },
  {
   "cell_type": "code",
   "execution_count": 3,
   "metadata": {},
   "outputs": [],
   "source": [
    "def profitable(x):\n",
    "    if x[\"change\"] > 0:\n",
    "        return 1\n",
    "    elif x[\"change\"] <= 0:\n",
    "        return 0"
   ]
  },
  {
   "cell_type": "code",
   "execution_count": 4,
   "metadata": {},
   "outputs": [
    {
     "name": "stdout",
     "output_type": "stream",
     "text": [
      "951928\n"
     ]
    }
   ],
   "source": [
    "'''stock = ss.StockDataFrame.retype(pd.read_csv('coinbaseUSD_1-min_data_2014-12-01_to_2018-11-11.csv')) #reads in data as StockDataFrame\n",
    "\n",
    "stock = stock[1:].dropna() #removes all rows containing any NaN values\n",
    "\n",
    "stock.to_csv(\"coinbase_minutely.csv\")'''\n",
    "stock = ss.StockDataFrame.retype(pd.read_csv('../Data/coinbase_minutely.csv')) #reads in data as StockDataFrame\n",
    "\n",
    "stock = stock[1:].dropna() #removes all rows containing any NaN values\n",
    "\n",
    "print(len(stock))"
   ]
  },
  {
   "cell_type": "code",
   "execution_count": 6,
   "metadata": {
    "scrolled": true
   },
   "outputs": [
    {
     "name": "stdout",
     "output_type": "stream",
     "text": [
      "10080\n"
     ]
    }
   ],
   "source": [
    "#data loading, preliminary cleaning, coercing\n",
    "stock = ss.StockDataFrame.retype(pd.read_csv('coinbase_minutely.csv')) #reads in data as StockDataFrame\n",
    "\n",
    "stock = stock[1:].dropna() #removes all rows containing any NaN values\n",
    "stock = stock.iloc[len(stock)-60*24*7:len(stock)]\n",
    "#stock = stock.iloc[::-1] #reverses df into proper time series direction\n",
    "\n",
    "stock = ss.StockDataFrame.retype(stock) #coerces df into StockDataFrame again\n",
    "\n",
    "#calculates and appends TA indicators to stock\n",
    "\n",
    "stock['macd']\n",
    "stock['volume_delta']\n",
    "stock['open_-1_r']\n",
    "stock['cr']\n",
    "stock['cr-ma1']\n",
    "stock['cr-ma2']\n",
    "stock['cr-ma3']\n",
    "stock[\"rsi_6\"]\n",
    "stock[\"rsi_12\"]\n",
    "stock[\"wr_10\"]\n",
    "stock[\"cci\"]\n",
    "stock['tr']\n",
    "stock['atr']\n",
    "stock['dma']\n",
    "stock['pdi']\n",
    "stock['mdi']\n",
    "stock['dx']\n",
    "stock['adx']\n",
    "stock['adxr']\n",
    "stock['trix']\n",
    "stock['trix_9_sma']\n",
    "stock['vr']\n",
    "stock.head()\n",
    "\n",
    "#apply profitable function then clean dataset again\n",
    "stock_month = stock\n",
    "stock_month[\"profitable\"] = stock.apply(profitable, axis=1)\n",
    "stock_month[\"profitable\"] = stock_month[\"profitable\"].shift(-1) #shifts \"profitable\" target column up 1 so current days stats predict tomorrow's profitability \n",
    "stock_month = stock_month[1:len(stock_month.index)-1] #removes first & last entry that now has NaN \"profitable\" column\n",
    "stock_month = stock_month[1:].dropna() #removes all rows containing any NaN values\n",
    "print(len(stock))"
   ]
  },
  {
   "cell_type": "code",
   "execution_count": 7,
   "metadata": {},
   "outputs": [
    {
     "name": "stdout",
     "output_type": "stream",
     "text": [
      "(8054, 56)\n",
      "(2014, 56)\n",
      "(10068, 56)\n",
      "10068\n"
     ]
    }
   ],
   "source": [
    "#create train-test sets, then std'ize and check lengths\n",
    "\n",
    "y = stock_month[\"profitable\"]\n",
    "x = stock_month.drop([\"profitable\", \"change\"], axis=1) #move drop until after split to track data for backtesting\n",
    "\n",
    "import random\n",
    "RANDOM_STATE = 123\n",
    "random.seed(RANDOM_STATE)\n",
    "#x_train_raw,x_test_raw,y_train,y_test = train_test_split(stock_month,y,test_size = .3,random_state = RANDOM_STATE)\n",
    "x_train = x.iloc[:int(len(stock_month)*.8)]\n",
    "x_test = x.iloc[int(len(stock_month)*.8):]\n",
    "y_train = y.iloc[:int(len(stock_month)*.8)]\n",
    "y_test = y.iloc[int(len(stock_month)*.8):]\n",
    "\n",
    "x_std_train = (x_train - x_train.mean())/x_train.std()\n",
    "x_std_test = (x_test - x_test.mean())/x_test.std()\n",
    "\n",
    "x_std_train = x_std_train.drop([\"open\",\"high\",\"low\",\"close\",\"volume\"], axis=1)\n",
    "x_std_test = x_std_test.drop([\"open\",\"high\",\"low\",\"close\",\"volume\"], axis=1)\n",
    "\n",
    "print(x_train.shape)\n",
    "print(x_test.shape)\n",
    "print(x.shape)\n",
    "print(x_train.shape[0]+x_test.shape[0])"
   ]
  },
  {
   "cell_type": "code",
   "execution_count": 8,
   "metadata": {
    "scrolled": true
   },
   "outputs": [
    {
     "name": "stderr",
     "output_type": "stream",
     "text": [
      "c:\\python36\\lib\\site-packages\\sklearn\\ensemble\\forest.py:246: FutureWarning: The default value of n_estimators will change from 10 in version 0.20 to 100 in 0.22.\n",
      "  \"10 in version 0.20 to 100 in 0.22.\", FutureWarning)\n",
      "[Parallel(n_jobs=1)]: Using backend SequentialBackend with 1 concurrent workers.\n",
      "[Parallel(n_jobs=1)]: Done  10 out of  10 | elapsed:    0.3s finished\n",
      "[Parallel(n_jobs=1)]: Using backend SequentialBackend with 1 concurrent workers.\n",
      "[Parallel(n_jobs=1)]: Done  10 out of  10 | elapsed:    0.0s finished\n"
     ]
    },
    {
     "name": "stdout",
     "output_type": "stream",
     "text": [
      "Accuracy Score: 0.509930\n",
      "F1 score:  0.4050632911392405\n"
     ]
    },
    {
     "data": {
      "image/png": "[encoded data removed]",
      "text/plain": [
       "<Figure size 432x288 with 2 Axes>"
      ]
     },
     "metadata": {
      "needs_background": "light"
     },
     "output_type": "display_data"
    }
   ],
   "source": [
    "clf_rf = RandomForestClassifier(random_state = RANDOM_STATE, verbose=1)\n",
    "clr_rf = clf_rf.fit(x_std_train,y_train)\n",
    "\n",
    "predictions = clf_rf.predict(x_std_test)\n",
    "\n",
    "ac = accuracy_score(predictions,y_test)\n",
    "cm = confusion_matrix(predictions,y_test)\n",
    "\n",
    "print('Accuracy Score: %f' % ac)\n",
    "sns.heatmap(cm,annot = True,fmt = 'd')\n",
    "\n",
    "f1 = f1_score(predictions, y_test)\n",
    "#type(predictions)\n",
    "print(\"F1 score: \", f1)"
   ]
  },
  {
   "cell_type": "code",
   "execution_count": 11,
   "metadata": {},
   "outputs": [
    {
     "name": "stderr",
     "output_type": "stream",
     "text": [
      "c:\\python36\\lib\\site-packages\\sklearn\\model_selection\\_split.py:2053: FutureWarning: You should specify a value for 'cv' instead of relying on the default value. The default value will change from 3 to 5 in version 0.22.\n",
      "  warnings.warn(CV_WARNING, FutureWarning)\n"
     ]
    },
    {
     "name": "stdout",
     "output_type": "stream",
     "text": [
      "Fitting 3 folds for each of 460 candidates, totalling 1380 fits\n"
     ]
    },
    {
     "name": "stderr",
     "output_type": "stream",
     "text": [
      "[Parallel(n_jobs=-1)]: Using backend LokyBackend with 8 concurrent workers.\n",
      "[Parallel(n_jobs=-1)]: Done  34 tasks      | elapsed:    4.6s\n",
      "[Parallel(n_jobs=-1)]: Done 184 tasks      | elapsed:   12.6s\n",
      "[Parallel(n_jobs=-1)]: Done 434 tasks      | elapsed:   39.8s\n",
      "[Parallel(n_jobs=-1)]: Done 784 tasks      | elapsed:  1.7min\n",
      "[Parallel(n_jobs=-1)]: Done 1234 tasks      | elapsed:  3.8min\n",
      "[Parallel(n_jobs=-1)]: Done 1380 out of 1380 | elapsed:  4.7min finished\n",
      "[Parallel(n_jobs=1)]: Using backend SequentialBackend with 1 concurrent workers.\n",
      "[Parallel(n_jobs=1)]: Done  10 out of  10 | elapsed:    0.2s finished\n"
     ]
    }
   ],
   "source": [
    "params = {'min_samples_leaf':range(1,20,2),\n",
    "          'max_features':range(5,50,2),\n",
    "          'warm_start':[True,False]\n",
    "          }\n",
    "rf_model = GridSearchCV(clf_rf, param_grid=params, n_jobs=-1, verbose=True)\n",
    "rf_model = rf_model.fit(x_std_train,y_train)"
   ]
  },
  {
   "cell_type": "code",
   "execution_count": 12,
   "metadata": {},
   "outputs": [
    {
     "name": "stderr",
     "output_type": "stream",
     "text": [
      "[Parallel(n_jobs=1)]: Using backend SequentialBackend with 1 concurrent workers.\n",
      "[Parallel(n_jobs=1)]: Done  10 out of  10 | elapsed:    0.0s finished\n"
     ]
    },
    {
     "name": "stdout",
     "output_type": "stream",
     "text": [
      "Accuracy Score: 0.517378\n",
      "F1 score:  0.43750000000000006\n",
      "Best Params:  {'max_features': 5, 'min_samples_leaf': 1, 'warm_start': True}\n"
     ]
    },
    {
     "data": {
      "image/png": "[encoded data removed]",
      "text/plain": [
       "<Figure size 432x288 with 2 Axes>"
      ]
     },
     "metadata": {
      "needs_background": "light"
     },
     "output_type": "display_data"
    }
   ],
   "source": [
    "predictions = rf_model.predict(x_std_test)\n",
    "\n",
    "ac = accuracy_score(predictions,y_test)\n",
    "cm = confusion_matrix(predictions,y_test)\n",
    "\n",
    "print('Accuracy Score: %f' % ac)\n",
    "sns.heatmap(cm,annot = True,fmt = 'd')\n",
    "\n",
    "f1 = f1_score(predictions, y_test)\n",
    "#type(predictions)\n",
    "print(\"F1 score: \", f1)\n",
    "print(\"Best Params: \", rf_model.best_params_)"
   ]
  },
  {
   "cell_type": "code",
   "execution_count": null,
   "metadata": {},
   "outputs": [],
   "source": [
    "params = {'n_estimators':range(1,11),\n",
    "          'min_samples_leaf':range(7,13),\n",
    "          'max_features':range(8,20),\n",
    "          'warm_start':[True,False]\n",
    "          }\n",
    "rf_model = GridSearchCV(clf_rf, param_grid=params, n_jobs=-1, verbose=True)\n",
    "rf_model = rf_model.fit(x_std_train,y_train)"
   ]
  },
  {
   "cell_type": "code",
   "execution_count": 38,
   "metadata": {},
   "outputs": [
    {
     "name": "stdout",
     "output_type": "stream",
     "text": [
      "Accuracy Score: 0.500000\n",
      "F1 score:  0.542713567839196\n",
      "Best Params:  {'max_features': 9, 'min_samples_leaf': 8, 'n_estimators': 1, 'warm_start': True}\n"
     ]
    },
    {
     "data": {
      "image/png": "[encoded data removed]",
      "text/plain": [
       "<Figure size 432x288 with 2 Axes>"
      ]
     },
     "metadata": {
      "needs_background": "light"
     },
     "output_type": "display_data"
    }
   ],
   "source": [
    "predictions = rf_model.predict(x_std_test)\n",
    "\n",
    "ac = accuracy_score(predictions,y_test)\n",
    "cm = confusion_matrix(predictions,y_test)\n",
    "\n",
    "print('Accuracy Score: %f' % ac)\n",
    "sns.heatmap(cm,annot = True,fmt = 'd')\n",
    "\n",
    "f1 = f1_score(predictions, y_test)\n",
    "#type(predictions)\n",
    "print(\"F1 score: \", f1)\n",
    "print(\"Best Params: \", rf_model.best_params_)"
   ]
  },
  {
   "cell_type": "code",
   "execution_count": 13,
   "metadata": {},
   "outputs": [],
   "source": [
    "answers_df = pd.DataFrame(\n",
    "    {'close': list(x_test[\"close\"]),\n",
    "     'predictions': list(predictions)\n",
    "    })\n",
    "\n",
    "answers_df.to_csv(\"answers_minutely.csv\")"
   ]
  },
  {
   "cell_type": "code",
   "execution_count": 29,
   "metadata": {},
   "outputs": [],
   "source": [
    "answers_df.to_csv(\"answers_daily.csv\")"
   ]
  },
  {
   "cell_type": "code",
   "execution_count": 35,
   "metadata": {},
   "outputs": [
    {
     "name": "stdout",
     "output_type": "stream",
     "text": [
      "<class 'range'>\n"
     ]
    }
   ],
   "source": [
    "print(type(range(1,5)))"
   ]
  },
  {
   "cell_type": "code",
   "execution_count": null,
   "metadata": {},
   "outputs": [],
   "source": []
  }
 ],
 "metadata": {
  "kernelspec": {
   "display_name": "Python 3",
   "language": "python",
   "name": "python3"
  },
  "language_info": {
   "codemirror_mode": {
    "name": "ipython",
    "version": 3
   },
   "file_extension": ".py",
   "mimetype": "text/x-python",
   "name": "python",
   "nbconvert_exporter": "python",
   "pygments_lexer": "ipython3",
   "version": "3.6.0"
  }
 },
 "nbformat": 4,
 "nbformat_minor": 2
}
