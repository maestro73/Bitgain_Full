{
 "cells": [
  {
   "cell_type": "code",
   "execution_count": 1,
   "metadata": {},
   "outputs": [],
   "source": [
    "#TODO: run gridsearch's on new SVM & KNN classifiers, SVM seems to work better so far\n",
    "\n",
    "import pandas as pd # data processing, CSV file I/O (e.g. pd.read_csv)\n",
    "import seaborn as sns # data visualization library  \n",
    "import matplotlib.pyplot as plt\n",
    "import time\n",
    "from tqdm import tqdm\n",
    "import numpy as np\n",
    "import stockstats as ss\n",
    "\n",
    "from sklearn.model_selection import train_test_split,GridSearchCV,cross_val_score\n",
    "from sklearn.ensemble import RandomForestClassifier\n",
    "from sklearn.neighbors import KNeighborsClassifier\n",
    "from sklearn.svm import SVC\n",
    "from sklearn.metrics import f1_score,confusion_matrix,accuracy_score\n",
    "from sklearn.feature_selection import SelectKBest,chi2,RFE,RFECV\n",
    "\n",
    "import random"
   ]
  },
  {
   "cell_type": "code",
   "execution_count": 2,
   "metadata": {},
   "outputs": [],
   "source": [
    "def profitable(x):\n",
    "    if x[\"change\"] > 0:\n",
    "        return 1\n",
    "    elif x[\"change\"] <= 0:\n",
    "        return 0"
   ]
  },
  {
   "cell_type": "code",
   "execution_count": 3,
   "metadata": {
    "scrolled": true
   },
   "outputs": [
    {
     "name": "stdout",
     "output_type": "stream",
     "text": [
      "951889\n"
     ]
    },
    {
     "name": "stderr",
     "output_type": "stream",
     "text": [
      "c:\\python36\\lib\\site-packages\\pandas\\core\\indexing.py:189: SettingWithCopyWarning: \n",
      "A value is trying to be set on a copy of a slice from a DataFrame\n",
      "\n",
      "See the caveats in the documentation: http://pandas.pydata.org/pandas-docs/stable/indexing.html#indexing-view-versus-copy\n",
      "  self._setitem_with_indexer(indexer, value)\n",
      "c:\\python36\\lib\\site-packages\\stockstats.py:387: FutureWarning: Currently, 'apply' passes the values as ndarrays to the applied function. In the future, this will change to passing it as Series objects. You need to specify 'raw=True' to keep the current behaviour, and you can pass 'raw=False' to silence this warning\n",
      "  lambda x: np.fabs(x - x.mean()).mean())\n",
      "c:\\python36\\lib\\site-packages\\numpy\\core\\fromnumeric.py:83: RuntimeWarning: invalid value encountered in reduce\n",
      "  return ufunc.reduce(obj, axis, dtype, out, **passkwargs)\n"
     ]
    },
    {
     "name": "stdout",
     "output_type": "stream",
     "text": [
      "43198 True\n",
      "43173 False\n",
      "43200\n"
     ]
    }
   ],
   "source": [
    "#data loading, preliminary cleaning, coercing\n",
    "stock = ss.StockDataFrame.retype(pd.read_csv('../Data/coinbase_minutely.csv'))#reads in data as StockDataFrame\n",
    "print(len(stock))\n",
    "\n",
    "stock = stock[1:].dropna() #removes all rows containing any NaN values\n",
    "stock = stock.iloc[len(stock)-60*24*30:len(stock)]\n",
    "#stock = stock.iloc[::-1] #reverses df into proper time series direction\n",
    "\n",
    "stock = ss.StockDataFrame.retype(stock) #coerces df into StockDataFrame again\n",
    "\n",
    "#calculates and appends TA indicators to stock\n",
    "\n",
    "stock['macd']\n",
    "stock['volume_delta']\n",
    "stock['open_-1_r']\n",
    "stock['cr']\n",
    "stock['cr-ma1']\n",
    "stock['cr-ma2']\n",
    "stock['cr-ma3']\n",
    "stock[\"rsi_6\"]\n",
    "stock[\"rsi_12\"]\n",
    "stock[\"wr_10\"]\n",
    "stock[\"cci\"]\n",
    "stock['tr']\n",
    "stock['atr']\n",
    "stock['dma']\n",
    "stock['pdi']\n",
    "stock['mdi']\n",
    "stock['dx']\n",
    "stock['adx']\n",
    "stock['adxr']\n",
    "stock['trix']\n",
    "stock['trix_9_sma']\n",
    "stock['vr']\n",
    "stock.head()\n",
    "\n",
    "#apply profitable function then clean dataset again\n",
    "stock_month = stock\n",
    "stock_month[\"profitable\"] = stock.apply(profitable, axis=1)\n",
    "stock_month[\"profitable\"] = stock_month[\"profitable\"].shift(-1) #shifts \"profitable\" target column up 1 so current days stats predict tomorrow's profitability \n",
    "stock_month = stock_month[1:len(stock_month.index)-1] #removes first & last entry that now has NaN \"profitable\" column\n",
    "print(len(stock_month), stock_month.isnull().values.any())\n",
    "#stock_month = stock_month.replace([np.inf, -np.inf], np.nan)\n",
    "stock_month = stock_month[~stock_month.isin([np.nan, np.inf, -np.inf]).any(1)]\n",
    "stock_month = stock_month[1:].dropna() #removes all rows containing any NaN values\n",
    "print(len(stock_month), stock_month.isnull().values.any())\n",
    "print(len(stock))"
   ]
  },
  {
   "cell_type": "code",
   "execution_count": 4,
   "metadata": {
    "scrolled": true
   },
   "outputs": [
    {
     "name": "stdout",
     "output_type": "stream",
     "text": [
      "False\n",
      "False\n",
      "False\n",
      "False\n"
     ]
    },
    {
     "name": "stderr",
     "output_type": "stream",
     "text": [
      "C:\\Users\\ngancitano\\AppData\\Roaming\\Python\\Python36\\site-packages\\sklearn\\preprocessing\\data.py:617: DataConversionWarning: Data with input dtype int64, float64 were all converted to float64 by StandardScaler.\n",
      "  return self.partial_fit(X, y)\n",
      "C:\\Users\\ngancitano\\AppData\\Roaming\\Python\\Python36\\site-packages\\sklearn\\base.py:462: DataConversionWarning: Data with input dtype int64, float64 were all converted to float64 by StandardScaler.\n",
      "  return self.fit(X, **fit_params).transform(X)\n",
      "c:\\python36\\lib\\site-packages\\ipykernel_launcher.py:24: DataConversionWarning: Data with input dtype int64, float64 were all converted to float64 by StandardScaler.\n"
     ]
    },
    {
     "name": "stdout",
     "output_type": "stream",
     "text": [
      "(34538, 56)\n",
      "(8635, 56)\n",
      "(43173, 56)\n",
      "43173\n"
     ]
    }
   ],
   "source": [
    "#create train-test sets, then std'ize and check lengths\n",
    "\n",
    "y = stock_month[\"profitable\"]\n",
    "x = stock_month.drop([\"profitable\", \"change\"], axis=1) #move drop until after split to track data for backtesting\n",
    "\n",
    "print(x.isnull().values.any())\n",
    "print(y.isnull().values.any())\n",
    "\n",
    "import random\n",
    "RANDOM_STATE = 123\n",
    "random.seed(RANDOM_STATE)\n",
    "#x_train_raw,x_test_raw,y_train,y_test = train_test_split(stock_month,y,test_size = .3,random_state = RANDOM_STATE)\n",
    "x_train = x.iloc[:int(len(stock_month)*.8)]\n",
    "x_test = x.iloc[int(len(stock_month)*.8):]\n",
    "y_train = y.iloc[:int(len(stock_month)*.8)]\n",
    "y_test = y.iloc[int(len(stock_month)*.8):]\n",
    "\n",
    "print(x_train.isnull().values.any())\n",
    "print(x_test.isnull().values.any())\n",
    "\n",
    "from sklearn.preprocessing import StandardScaler\n",
    "sc = StandardScaler()\n",
    "x_std_train = sc.fit_transform(x_train)\n",
    "x_std_test = sc.transform(x_test)\n",
    "\n",
    "#x_std_train = (x_train - x_train.mean())/x_train.std()\n",
    "#x_std_test = (x_test - x_test.mean())/x_test.std()\n",
    "\n",
    "x_std_train = x_std_train[:,5:]#.drop([\"open\",\"high\",\"low\",\"close\",\"volume\"], axis=1)\n",
    "x_std_test = x_std_test[:,5:]#.drop([\"open\",\"high\",\"low\",\"close\",\"volume\"], axis=1)\n",
    "\n",
    "print(x_train.shape)\n",
    "print(x_test.shape)\n",
    "print(x.shape)\n",
    "print(x_train.shape[0]+x_test.shape[0])\n",
    "\n",
    "#print(x_std_train.isnull().values.any()) # WHY DOES X_STD_TRAIN HAVE NA VALUES???!?!!!!?!??!??!!\n",
    "#print(x_train.isnull().values.any())\n",
    "#print(x_std_test.isnull().values.any())"
   ]
  },
  {
   "cell_type": "code",
   "execution_count": 31,
   "metadata": {},
   "outputs": [
    {
     "name": "stdout",
     "output_type": "stream",
     "text": [
      "[[-1.7515878  -1.7515878  -0.92246152 ...  0.49431101  0.59597466\n",
      "  -0.77974948]\n",
      " [-1.75157989 -1.75157989 -0.92132819 ...  0.44431422  0.55327051\n",
      "  -0.78772261]\n",
      " [-1.75157197 -1.75157197 -0.92775043 ...  0.24713367  0.46255077\n",
      "  -0.80233745]\n",
      " ...\n",
      " [ 1.72384021  1.72384021  1.37556895 ... -0.18722859 -0.06509313\n",
      "   0.28131142]\n",
      " [ 1.72384812  1.72384812  1.3756634  ... -0.19409635 -0.09808581\n",
      "  -0.13755993]\n",
      " [ 1.72385604  1.72385604  1.3737745  ... -0.1960093  -0.12701626\n",
      "  -0.16531342]]\n",
      "<class 'numpy.ndarray'>\n"
     ]
    }
   ],
   "source": [
    "print(x_std_train)\n",
    "print(type(x_std_train))\n",
    "\n",
    "#print(x_std_train.isnull().values.any()) # WHY DOES X_STD_TRAIN HAVE NA VALUES???!?!!!!?!??!??!!\n",
    "#print(x_train.isnull().values.any())\n",
    "#print(x_std_test.isnull().values.any())"
   ]
  },
  {
   "cell_type": "code",
   "execution_count": 21,
   "metadata": {},
   "outputs": [
    {
     "name": "stdout",
     "output_type": "stream",
     "text": [
      "<class 'pandas.core.frame.DataFrame'>\n",
      "1.0182572252860245\n",
      "1.0409854438980652\n"
     ]
    }
   ],
   "source": [
    "print(type(x_train))\n",
    "print(y_train.mean())\n",
    "print(y_test.mean())"
   ]
  },
  {
   "cell_type": "code",
   "execution_count": 6,
   "metadata": {
    "scrolled": false
   },
   "outputs": [
    {
     "name": "stdout",
     "output_type": "stream",
     "text": [
      "[LibSVM]Accuracy Score: 0.535843\n",
      "F1 score:  0.3160409556313993\n"
     ]
    },
    {
     "data": {
      "image/png": "[encoded data removed]",
      "text/plain": [
       "<Figure size 432x288 with 2 Axes>"
      ]
     },
     "metadata": {
      "needs_background": "light"
     },
     "output_type": "display_data"
    }
   ],
   "source": [
    "clf_svm = SVC(random_state = RANDOM_STATE, verbose = 1, kernel='rbf')\n",
    "clf_svm = clf_svm.fit(x_std_train, y_train)\n",
    "'''\n",
    "clf_rf = RandomForestClassifier(random_state = RANDOM_STATE, verbose=1)\n",
    "clr_rf = clf_rf.fit(x_std_train,y_train)\n",
    "'''\n",
    "predictions = clf_svm.predict(x_std_test)\n",
    "\n",
    "ac = accuracy_score(predictions,y_test)\n",
    "cm = confusion_matrix(predictions,y_test)\n",
    "\n",
    "print('Accuracy Score: %f' % ac)\n",
    "sns.heatmap(cm,annot = True,fmt = 'd')\n",
    "\n",
    "f1 = f1_score(predictions, y_test)\n",
    "#type(predictions)\n",
    "print(\"F1 score: \", f1)"
   ]
  },
  {
   "cell_type": "code",
   "execution_count": null,
   "metadata": {},
   "outputs": [],
   "source": []
  },
  {
   "cell_type": "code",
   "execution_count": 5,
   "metadata": {},
   "outputs": [
    {
     "name": "stdout",
     "output_type": "stream",
     "text": [
      "Accuracy Score: 0.506891\n",
      "F1 score:  0.45410256410256405\n"
     ]
    },
    {
     "data": {
      "image/png": "[encoded data removed]",
      "text/plain": [
       "<Figure size 432x288 with 2 Axes>"
      ]
     },
     "metadata": {
      "needs_background": "light"
     },
     "output_type": "display_data"
    }
   ],
   "source": [
    "clf_knn = KNeighborsClassifier(n_neighbors=5, metric='minkowski', p=2)\n",
    "clf_knn = clf_knn.fit(x_std_train, y_train)\n",
    "'''\n",
    "clf_rf = RandomForestClassifier(random_state = RANDOM_STATE, verbose=1)\n",
    "clr_rf = clf_rf.fit(x_std_train,y_train)\n",
    "'''\n",
    "predictions = clf_knn.predict(x_std_test)\n",
    "\n",
    "ac = accuracy_score(predictions,y_test)\n",
    "cm = confusion_matrix(predictions,y_test)\n",
    "\n",
    "print('Accuracy Score: %f' % ac)\n",
    "sns.heatmap(cm,annot = True,fmt = 'd')\n",
    "\n",
    "f1 = f1_score(predictions, y_test)\n",
    "#type(predictions)\n",
    "print(\"F1 score: \", f1)"
   ]
  },
  {
   "cell_type": "code",
   "execution_count": 11,
   "metadata": {},
   "outputs": [
    {
     "name": "stderr",
     "output_type": "stream",
     "text": [
      "c:\\python36\\lib\\site-packages\\sklearn\\model_selection\\_split.py:2053: FutureWarning: You should specify a value for 'cv' instead of relying on the default value. The default value will change from 3 to 5 in version 0.22.\n",
      "  warnings.warn(CV_WARNING, FutureWarning)\n"
     ]
    },
    {
     "name": "stdout",
     "output_type": "stream",
     "text": [
      "Fitting 3 folds for each of 460 candidates, totalling 1380 fits\n"
     ]
    },
    {
     "name": "stderr",
     "output_type": "stream",
     "text": [
      "[Parallel(n_jobs=-1)]: Using backend LokyBackend with 8 concurrent workers.\n",
      "[Parallel(n_jobs=-1)]: Done  34 tasks      | elapsed:    4.6s\n",
      "[Parallel(n_jobs=-1)]: Done 184 tasks      | elapsed:   12.6s\n",
      "[Parallel(n_jobs=-1)]: Done 434 tasks      | elapsed:   39.8s\n",
      "[Parallel(n_jobs=-1)]: Done 784 tasks      | elapsed:  1.7min\n",
      "[Parallel(n_jobs=-1)]: Done 1234 tasks      | elapsed:  3.8min\n",
      "[Parallel(n_jobs=-1)]: Done 1380 out of 1380 | elapsed:  4.7min finished\n",
      "[Parallel(n_jobs=1)]: Using backend SequentialBackend with 1 concurrent workers.\n",
      "[Parallel(n_jobs=1)]: Done  10 out of  10 | elapsed:    0.2s finished\n"
     ]
    }
   ],
   "source": [
    "params = {'min_samples_leaf':range(1,20,2),\n",
    "          'max_features':range(5,50,2),\n",
    "          'warm_start':[True,False]\n",
    "          }\n",
    "rf_model = GridSearchCV(clf_rf, param_grid=params, n_jobs=-1, verbose=True)\n",
    "rf_model = rf_model.fit(x_std_train,y_train)"
   ]
  },
  {
   "cell_type": "code",
   "execution_count": 12,
   "metadata": {},
   "outputs": [
    {
     "name": "stderr",
     "output_type": "stream",
     "text": [
      "[Parallel(n_jobs=1)]: Using backend SequentialBackend with 1 concurrent workers.\n",
      "[Parallel(n_jobs=1)]: Done  10 out of  10 | elapsed:    0.0s finished\n"
     ]
    },
    {
     "name": "stdout",
     "output_type": "stream",
     "text": [
      "Accuracy Score: 0.517378\n",
      "F1 score:  0.43750000000000006\n",
      "Best Params:  {'max_features': 5, 'min_samples_leaf': 1, 'warm_start': True}\n"
     ]
    },
    {
     "data": {
      "image/png": "[encoded data removed]",
      "text/plain": [
       "<Figure size 432x288 with 2 Axes>"
      ]
     },
     "metadata": {
      "needs_background": "light"
     },
     "output_type": "display_data"
    }
   ],
   "source": [
    "predictions = rf_model.predict(x_std_test)\n",
    "\n",
    "ac = accuracy_score(predictions,y_test)\n",
    "cm = confusion_matrix(predictions,y_test)\n",
    "\n",
    "print('Accuracy Score: %f' % ac)\n",
    "sns.heatmap(cm,annot = True,fmt = 'd')\n",
    "\n",
    "f1 = f1_score(predictions, y_test)\n",
    "#type(predictions)\n",
    "print(\"F1 score: \", f1)\n",
    "print(\"Best Params: \", rf_model.best_params_)"
   ]
  },
  {
   "cell_type": "code",
   "execution_count": null,
   "metadata": {},
   "outputs": [],
   "source": [
    "params = {'n_estimators':range(1,11),\n",
    "          'min_samples_leaf':range(7,13),\n",
    "          'max_features':range(8,20),\n",
    "          'warm_start':[True,False]\n",
    "          }\n",
    "rf_model = GridSearchCV(clf_rf, param_grid=params, n_jobs=-1, verbose=True)\n",
    "rf_model = rf_model.fit(x_std_train,y_train)"
   ]
  },
  {
   "cell_type": "code",
   "execution_count": 38,
   "metadata": {},
   "outputs": [
    {
     "name": "stdout",
     "output_type": "stream",
     "text": [
      "Accuracy Score: 0.500000\n",
      "F1 score:  0.542713567839196\n",
      "Best Params:  {'max_features': 9, 'min_samples_leaf': 8, 'n_estimators': 1, 'warm_start': True}\n"
     ]
    },
    {
     "data": {
      "image/png": "[encoded data removed]",
      "text/plain": [
       "<Figure size 432x288 with 2 Axes>"
      ]
     },
     "metadata": {
      "needs_background": "light"
     },
     "output_type": "display_data"
    }
   ],
   "source": [
    "predictions = rf_model.predict(x_std_test)\n",
    "\n",
    "ac = accuracy_score(predictions,y_test)\n",
    "cm = confusion_matrix(predictions,y_test)\n",
    "\n",
    "print('Accuracy Score: %f' % ac)\n",
    "sns.heatmap(cm,annot = True,fmt = 'd')\n",
    "\n",
    "f1 = f1_score(predictions, y_test)\n",
    "#type(predictions)\n",
    "print(\"F1 score: \", f1)\n",
    "print(\"Best Params: \", rf_model.best_params_)"
   ]
  },
  {
   "cell_type": "code",
   "execution_count": 7,
   "metadata": {},
   "outputs": [],
   "source": [
    "answers_df = pd.DataFrame(\n",
    "    {'close': list(x_test[\"close\"]),\n",
    "     'predictions': list(predictions)\n",
    "    })\n",
    "\n",
    "answers_df.to_csv(\"answers_SVM.csv\")"
   ]
  },
  {
   "cell_type": "code",
   "execution_count": 29,
   "metadata": {},
   "outputs": [],
   "source": [
    "answers_df.to_csv(\"answers_daily.csv\")"
   ]
  },
  {
   "cell_type": "code",
   "execution_count": 35,
   "metadata": {},
   "outputs": [
    {
     "name": "stdout",
     "output_type": "stream",
     "text": [
      "<class 'range'>\n"
     ]
    }
   ],
   "source": [
    "print(type(range(1,5)))"
   ]
  },
  {
   "cell_type": "code",
   "execution_count": null,
   "metadata": {},
   "outputs": [],
   "source": []
  }
 ],
 "metadata": {
  "kernelspec": {
   "display_name": "Python 3",
   "language": "python",
   "name": "python3"
  },
  "language_info": {
   "codemirror_mode": {
    "name": "ipython",
    "version": 3
   },
   "file_extension": ".py",
   "mimetype": "text/x-python",
   "name": "python",
   "nbconvert_exporter": "python",
   "pygments_lexer": "ipython3",
   "version": "3.6.0"
  }
 },
 "nbformat": 4,
 "nbformat_minor": 2
}
